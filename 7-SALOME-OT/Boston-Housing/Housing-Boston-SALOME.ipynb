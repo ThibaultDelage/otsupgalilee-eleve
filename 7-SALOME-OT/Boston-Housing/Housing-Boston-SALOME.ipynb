{
 "cells": [
  {
   "cell_type": "markdown",
   "metadata": {},
   "source": [
    "# Housing prices in Boston : utilisation de l'interface graphique d'OpenTURNS\n",
    "\n",
    "\n",
    "This dataset contains information collected by various sources concerning housing in the area of Boston Mass in 1970. The sources are the U.S Census Service, FBI and other sources. The dataset contains 506 cases. \n",
    "\n",
    "There are 14 variables:\n",
    "* CRIM : per capita crime rate by town\n",
    "* ZN : proportion of residential land zoned for lots over 25,000 sq.ft. (high value restricts construction of small lot houses)\n",
    "* INDUS : proportion of non retail business acres per town (measures the impact of noise, heavy traffic and visual effects)\n",
    "* CHAS : Charles River dummy variable (1 if tract bounds river; 0 otherwise). Captures the amenities of a riverside location.\n",
    "* NOX : nitric oxides concentration (parts per 10 million) (measures air pollution)\n",
    "* RM : average number of rooms per dwelling (measures the spaciousness)\n",
    "* AGE : proportion of owner occupied units built prior to 1940 (related to structure quality)\n",
    "* DIS : weighted distances to five Boston employment centres\n",
    "* RAD : index of accessibility to radial highways\n",
    "* TAX : full value property tax rate per 10,000 US Dollars (measures the cost of public services)\n",
    "* PTRATIO : pupil teacher ratio by town (measures public sector benefits in each town)\n",
    "* B : $1000(Bk - 0.63)^2$ US Dollars where Bk is the proportion of blacks by town\n",
    "* LSTAT : percent lower status of the population (proportion of adults without some high school education and proportion of male workers classified as laborers)\n",
    "* MEDV : median value of owner occupied homes in 1,000 US Dollars\n",
    "\n",
    "The classical goal is to predict MEDV depending on the first 13 variables.\n",
    "\n",
    "## Reference\n",
    "\n",
    "* Regression Analysis with Python, Luca Massaron, Alberto Boschetti, Packt Publishing\n",
    "* Harrison, Jr., David, Rubinfeld, Daniel L. (1978/03).\"Hedonic housing prices and the demand for clean air.\" Journal of Environmental Economics and Management 5(1): 81-102. \n",
    "* Belsley, Kuh & Welsch, \"Regression diagnostics: Identifying Influential Data and Sources of Collinearity\", Wiley, 1980. 244-261.\n",
    "* Quinlan,R. (1993). Combining Instance-Based and Model-Based Learning. In Proceedings on the Tenth International Conference of Machine Learning, 236-243, University of Massachusetts, Amherst. Morgan Kaufmann."
   ]
  },
  {
   "cell_type": "markdown",
   "metadata": {},
   "source": [
    "## Description\n",
    "\n",
    "On souhaite analyser les données du fichier suivant dans l'interface graphique.\n",
    "\n",
    "    Housing-prices-Boston.csv\n",
    "\n",
    "L'objectif de cette étude est de déterminer quels facteurs sont les plus influents sur le prix d'une maison dans la réunion de Boston en 1978. Pour cela, nous proposons d'utiliser des outils d'exploration graphique interactive, ainsi que des méthodes d'analyse de sensibilité.\n",
    "\n",
    "Dans l'interface graphique, créer une nouvelle étude, puis sélectionner \"Modèle de données\".\n",
    "\n",
    "<img src=\"Boston-new-datamodel.PNG\" width=\"600\">\n",
    "\n",
    "Dans le diagramme d'utilisation, sélectionner \"Définition du modèle\".\n",
    "\n",
    "<img src=\"Boston-diagram.PNG\" width=\"400\">\n",
    "\n",
    "Sélectionner le fichier suivant sur votre disque :\n",
    "\n",
    "    Housing-prices-Boston.csv\n",
    "\n",
    "<img src=\"Boston-select-CSV.PNG\" width=\"400\">\n",
    "\n",
    "Dans l'arbre d'étude, choisissez l'élément \"Définition\" et, avec le bouton droit de la souris, choisissez \"Analyse de données\".\n",
    "\n",
    "<img src=\"Boston-analyse-donnees.PNG\" width=\"400\">\n"
   ]
  },
  {
   "cell_type": "markdown",
   "metadata": {},
   "source": [
    "## Exercice 1 : analyse du modèle de données\n",
    "\n",
    "* Quelles sont les principales caractéristiques de l'échantillon des prix des maisons ?\n",
    "* Quelle est la distribution des prix des maisons ? Quelles sont ses caractéristiques ?\n",
    "* Analyser les boxplots : quelles sont les variables qui sont associées à des données qui ne sont pas gaussiennes du tout ?\n",
    "* Analyser la matrice de dépendance des coefficients de corrélation de Spearman. \n",
    "  * Quelles sont les variables qui semblent moins dépendantes ? \n",
    "  * Quelles sont les variables qui semblent plus dépendantes ?\n",
    "  * Peut-on utiliser les indices de sensibilité de Sobol' dans cette situation ?\n",
    "* Analyser le cobweb.\n",
    "  * Quelles sont les variables qui sont associées à une discrétisation des valeurs ?\n",
    "  * Quelles sont les variables qui semblent mener à des prix MEDV élevés ?"
   ]
  },
  {
   "cell_type": "markdown",
   "metadata": {},
   "source": [
    "## Exercice 2 : Création d'un métamodèle\n",
    "\n",
    "* Créer un métamodèle de krigeage.\n",
    "  * Quelle valeur de Q2 observez-vous ? \n",
    "  * Est-ce un métamodèle satisfaisant ?\n",
    "* Créer un métamodèle de chaos polynomial creux de degré 3. \n",
    "  * Quelle valeur de Q2 observez-vous ?\n",
    "  * Est-ce un métamodèle satisfaisant ?\n",
    "  * Observez la taille de base polynomiale en fonction du degré du polynôme : combien de termes sont retenus ?\n",
    "  * Observez la moyenne, l'écart-type et la décomposition de la variance : qu'observez-vous ? Que peut-on conclure ?\n",
    "  * Analyser les multi-indices dans la décomposition : que peut-on conclure ?"
   ]
  },
  {
   "cell_type": "markdown",
   "metadata": {},
   "source": [
    "## Exercice 3 : inférence des marginales\n",
    "\n",
    "Pour chacune des variables RM, LSTAT et CRIM, répondre aux questions suivantes :\n",
    "* Quelle loi s'ajuste le mieux à cet échantillon ?\n",
    "* L'ajustement est-il satisfaisant ?\n",
    "* Peux-t-on améliorer l'ajustement et comment ?"
   ]
  }
 ],
 "metadata": {
  "kernelspec": {
   "display_name": "Python 3",
   "language": "python",
   "name": "python3"
  },
  "language_info": {
   "codemirror_mode": {
    "name": "ipython",
    "version": 3
   },
   "file_extension": ".py",
   "mimetype": "text/x-python",
   "name": "python",
   "nbconvert_exporter": "python",
   "pygments_lexer": "ipython3",
   "version": "3.7.0"
  }
 },
 "nbformat": 4,
 "nbformat_minor": 2
}
