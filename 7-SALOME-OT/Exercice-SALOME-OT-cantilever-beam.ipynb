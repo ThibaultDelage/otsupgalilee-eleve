{
 "cells": [
  {
   "cell_type": "markdown",
   "metadata": {},
   "source": [
    "# L'interface graphique d'OpenTURNS dans SALOME : application au cas de la déviation verticale de la poutre encastrée"
   ]
  },
  {
   "cell_type": "markdown",
   "metadata": {},
   "source": [
    "# Problem statement\n",
    "\n",
    "We consider a cantilever beam defined by its Young’s modulus $E$, its length $L$ and its section modulus $I$. One end is built in a wall and we apply a concentrated bending load $F$ at the other end of the beam, resulting in a vertical deviation $Y$.\n",
    "\n",
    "<img src=\"poutre.png\" width=\"200\">\n",
    "\n",
    "__Inputs__:  $\\left\\{ E, F, L, I \\right\\}$\n",
    "* $E$ : Young modulus (Pa)\n",
    "* $L$ : Length of beam (cm),\n",
    "* $I$ : Moment of inertia (cm^4),\n",
    "* $F$ : Loading (N)\n",
    "\n",
    "|Variable|  Distribution|\n",
    "| ------------- |-------------|\n",
    "|E|  Beta(r = 0.9, t = 3.5, a = $2.5\\times 10^7$, $b = 5\\times 10^7$) |\n",
    "|F| Lognormal($\\mu=30 \\times 10^3$, $\\sigma=9\\times 10^3$, shift=$15\\times 10^3$\\)|\n",
    "|L|Uniform(min=250, max= 260)|\n",
    "|I| Beta(r = 2.5, t = 4, a = 310, b = 450)|\n",
    "\n",
    "De plus, on fait l'hypothèse que les variables E, F, L, I sont dépendantes avec une copule gaussienne. La matrice des rangs de Spearman est :\n",
    "$$\n",
    "R = \n",
    "\\begin{pmatrix}\n",
    "1 & 0 & 0 & 0 \\\\\n",
    "0 & 1 & 0 & 0 \\\\\n",
    "0 & 0 & 1 & -0.2 \\\\\n",
    "0 & 0 & -0.2 & 1\n",
    "\\end{pmatrix}\n",
    "$$\n",
    "\n",
    "The input variables are supposed to be independent.\n",
    "\n",
    "__Output__:\n",
    "\n",
    "The vertical displacement at free end of the cantilever beam is:\n",
    "$$\n",
    "Y  = \\dfrac{F\\, L^3}{3 \\, E \\, I}.\n",
    "$$"
   ]
  },
  {
   "cell_type": "markdown",
   "metadata": {},
   "source": [
    "## Définition du modèle physique\n",
    "\n",
    "On importe le script Python : \n",
    "\n",
    "    cantileverBeam-symbolic.py\n",
    "\n",
    "<img src=\"cantilever-beam-physical-model.PNG\" width=\"800\">\n",
    "\n",
    "## Définition du modèle probabiliste\n",
    "\n",
    "<img src=\"cantilever-beam-probabilistic-model.PNG\" width=\"800\">\n"
   ]
  },
  {
   "cell_type": "markdown",
   "metadata": {},
   "source": [
    "## Plan d'expériences\n",
    "\n",
    "* Dans l'arbre d'étude à gauche, bouton droit sur \"Modèle probabiliste\" : choisir \"Plan d'expériences\"\n",
    "* Type de plan d'expériences : Probabiliste\n",
    "\n",
    "<img src=\"cantilever-beam-DOE-select-type.PNG\" width=\"800\">\n",
    "\n",
    "* Continuer\n",
    "* Plan Monte-Carlo, Taille d'échantillon : 1000\n",
    "\n",
    "<img src=\"cantilever-beam-DOE-select-algorithm.PNG\" width=\"800\">\n",
    "\n",
    "* Terminer\n",
    "\n",
    "<img src=\"cantilever-beam-DOE.PNG\" width=\"800\">\n",
    "\n",
    "* Dans l'arbre d'étude, bouton droit sur \"plan_0\" : choisir \"Evaluer\"\n",
    "\n",
    "<img src=\"cantilever-beam-DOE-evaluation.PNG\" width=\"800\">\n",
    "\n",
    "* Evaluation du plan d'expériences : Terminer\n",
    "\n",
    "<img src=\"cantilever-beam-DOE-run.PNG\" width=\"800\">\n",
    "\n",
    "* Lancer. A cet instant, si nous disposions de ressources de calcul parallèle, nous pourrions les exploiter."
   ]
  },
  {
   "cell_type": "markdown",
   "metadata": {},
   "source": [
    "## Exploration interactive du plan d'expériences\n",
    "\n",
    "### Résumé\n",
    "\n",
    "<img src=\"cantilever-beam-DOE-summary.PNG\" width=\"1000\">\n",
    "\n",
    "### Cobweb\n",
    "\n",
    "Dans le cobweb, avec le bouton gauche, on sélectionne les valeurs élevées de déviation verticales, associées aux quantiles entre 0.8 et 1.\n",
    "\n",
    "<img src=\"cantilever-beam-cobweb-high-Y.PNG\" width=\"1000\">\n",
    "\n",
    "* Le cobweb est dans l'espace des rangs. En conséquence, la distribution des traits noirs sur chaque axe vertical est uniforme.\n",
    "* Si la distribution verticale de traits rouges n'est pas uniforme sur un axe, alors la variable correspondant à l'axe a une influence sur l'évènement associé à la sélection.\n",
    "* On observe que les valeurs de déviation verticales élevées sont causées par :\n",
    "  * des modules d'Young E faibles,\n",
    "  * des forces F élevées,\n",
    "  * des moments d'inertie I faibles.\n",
    "* La variable L n'a pas beaucoup d'impact sur l'apparition d'une déviation verticale élevée.\n",
    "\n",
    "Bien sûr, les conclusions dépendent des lois que nous avons placées sur le modèle.\n",
    "\n",
    "### Matrix Plot\n",
    "\n",
    "Dans le matrix plot, la sélection se fait avec le bouton droit de la souris.\n",
    "\n",
    "<img src=\"cantilever-beam-matrix-plot.PNG\" width=\"1000\">\n",
    "\n",
    "### Scatter plot\n",
    "\n",
    "* Le diagramme de dispersion peut être dessiné soit dans l'espace physique, soit dans l'espace des rangs. \n",
    "* On sélectionne les variables L et I dans la boîte de configuration du graphique en bas à gauche.\n",
    "* On active l'espace des rangs.\n",
    "* Si nécessaire on annule la sélection en faisant une sélection rectangulaire vide avec le bouton droit de la souris.\n",
    "\n",
    "<img src=\"cantilever-beam-scatter-plot-L-Y.PNG\" width=\"1000\">\n",
    "\n",
    "On observe que les points sont uniforméments répartis dans le carré unité. En conséquence, il y a une faible dépendance entre la variable d'entrée L et la variable de sortie Y."
   ]
  },
  {
   "cell_type": "markdown",
   "metadata": {},
   "source": [
    "## Exercice 1 : avec une longueur de poutre élargie\n",
    "\n",
    "On souhaite déterminer l'impact d'une augmentation de l'incertitude sur le paramètre L. \n",
    "* Modifier la loi de la variable L et utiliser Uniforme(200,300).\n",
    "* Créer un nouveau plan d'expériences.\n",
    "* Comment évolue la matrice de scatter plots ?\n",
    "* Comment évolue le scatter plot (L,Y) dans l'espace des rangs ?"
   ]
  }
 ],
 "metadata": {
  "kernelspec": {
   "display_name": "Python 3",
   "language": "python",
   "name": "python3"
  },
  "language_info": {
   "codemirror_mode": {
    "name": "ipython",
    "version": 3
   },
   "file_extension": ".py",
   "mimetype": "text/x-python",
   "name": "python",
   "nbconvert_exporter": "python",
   "pygments_lexer": "ipython3",
   "version": "3.7.0"
  }
 },
 "nbformat": 4,
 "nbformat_minor": 2
}
