{
 "cells": [
  {
   "cell_type": "markdown",
   "metadata": {},
   "source": [
    "# L'interface graphique d'OpenTURNS dans SALOME"
   ]
  },
  {
   "cell_type": "markdown",
   "metadata": {},
   "source": [
    "## Consortium SALOME\n",
    "\n",
    "<img src=\"Logo-EDF.png\"  style=\"width:200px\">\n",
    "\n",
    "<img src=\"Logo-CEA.png\"  style=\"width:200px\">\n",
    "\n",
    "<img src=\"Logo-OpenCascade.png\"  style=\"width:200px\">\n",
    "\n",
    "* Integration platform for pre and post processing, and 2D/3D numerical simulation\n",
    "* Features : geometry, mesh, distributed computing\n",
    "* Visualization, data assimilation, uncertainty treatment\n",
    "* Partners : EDF, CEA, OpenCascade\n",
    "* Licence : LGPL\n",
    "* Linux, Windows\n",
    "\n",
    "SALOME est diffusé sous différentes formes\n",
    "* SALOME \"de base\" : le noyau, l'interface graphique, la géométrie, le maillage, Paravis, YACS (pour le couplage et la gestion des calculs distribués), MEDCOUPLING\n",
    "* SALOME MECA : pour les calculs de structures mécaniques avec Code_Aster\n",
    "* SALOME HYDRO : pour les calculs hydrauliques avec TELEMAC/MASCARET\n",
    "* SALOME CFD : pour les calculs en dynamique des fluides avec Code_Saturne\n",
    "\n",
    "<img src=\"Salome-hydro-platform.png\"  style=\"width:1000px\">\n",
    "\n",
    "La dernière version, SALOME 9.2, est disponible depuis Février 2019."
   ]
  },
  {
   "cell_type": "markdown",
   "metadata": {},
   "source": [
    "## Partenariat sur l'interface graphique d'OpenTURNS\n",
    "\n",
    "<img src=\"./Logo-EDF.png\"  style=\"width:200px\">\n",
    "\n",
    "<img src=\"./Logo-Phimeca.png\"  style=\"width:200px\">\n",
    "\n",
    "Main goal : provide a graphical interface of OpenTURNS in SALOME\n",
    "* Features\n",
    "  * Uncertainty quantification (distribution fitting), central tendency, sensitivity analysis, probability estimate, meta-modeling\n",
    "  * Generic (not dedicated to a specific application)\n",
    "  * GUI language : English, French\n",
    "* Partners : EDF, Phiméca\n",
    "* Licence : LGPL\n",
    "* Développement depuis l'été 2016\n",
    "* En ligne sur salome-platform.org depuis 2018"
   ]
  }
 ],
 "metadata": {
  "kernelspec": {
   "display_name": "Python 3",
   "language": "python",
   "name": "python3"
  },
  "language_info": {
   "codemirror_mode": {
    "name": "ipython",
    "version": 3
   },
   "file_extension": ".py",
   "mimetype": "text/x-python",
   "name": "python",
   "nbconvert_exporter": "python",
   "pygments_lexer": "ipython3",
   "version": "3.7.0"
  }
 },
 "nbformat": 4,
 "nbformat_minor": 2
}
