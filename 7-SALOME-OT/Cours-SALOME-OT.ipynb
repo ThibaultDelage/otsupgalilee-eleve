{
 "cells": [
  {
   "cell_type": "markdown",
   "metadata": {},
   "source": [
    "# L'interface graphique d'OpenTURNS dans SALOME"
   ]
  },
  {
   "cell_type": "markdown",
   "metadata": {},
   "source": [
    "## Consortium SALOME\n",
    "\n",
    "<img src=\"Logo-EDF.png\"  style=\"width:200px\">\n",
    "\n",
    "<img src=\"Logo-CEA.png\"  style=\"width:200px\">\n",
    "\n",
    "<img src=\"Logo-OpenCascade.png\"  style=\"width:200px\">\n",
    "\n",
    "* Integration platform for pre and post processing, and 2D/3D numerical simulation\n",
    "* Features : geometry, mesh, distributed computing\n",
    "* Visualization, data assimilation, uncertainty treatment\n",
    "* Partners : EDF, CEA, OpenCascade\n",
    "* Licence : LGPL\n",
    "* Linux, Windows\n",
    "\n",
    "SALOME est diffusé sous différentes formes\n",
    "* SALOME \"de base\" : le noyau, l'interface graphique, la géométrie, le maillage, Paravis, YACS (pour le couplage et la gestion des calculs distribués), MEDCOUPLING\n",
    "* SALOME MECA : pour les calculs de structures mécaniques avec Code_Aster\n",
    "* SALOME HYDRO : pour les calculs hydrauliques avec TELEMAC/MASCARET\n",
    "* SALOME CFD : pour les calculs en dynamique des fluides avec Code_Saturne\n",
    "\n",
    "<img src=\"Salome-hydro-platform.png\"  style=\"width:1000px\">\n",
    "\n",
    "La dernière version, SALOME 9.2, est disponible depuis Février 2019."
   ]
  },
  {
   "cell_type": "markdown",
   "metadata": {},
   "source": [
    "## Partenariat sur l'interface graphique d'OpenTURNS\n",
    "\n",
    "<img src=\"Logo-EDF.png\"  style=\"width:200px\">\n",
    "\n",
    "<img src=\"Logo-Phimeca.png\"  style=\"width:200px\">\n",
    "\n",
    "Main goal : provide a graphical interface of OpenTURNS in SALOME\n",
    "* Features\n",
    "  * Uncertainty quantification (distribution fitting), central tendency, sensitivity analysis, probability estimate, meta-modeling\n",
    "  * Generic (not dedicated to a specific application)\n",
    "  * GUI language : English, French\n",
    "* Partners : EDF, Phiméca\n",
    "* Licence : LGPL\n",
    "* Développement depuis l'été 2016\n",
    "* Des binaires Linux sont en ligne sur salome-platform.org depuis 2018 sur :\n",
    "\n",
    "https://www.salome-platform.org/contributions/edf_products"
   ]
  },
  {
   "cell_type": "markdown",
   "metadata": {},
   "source": [
    "## A l'Institut Galilée\n",
    "\n",
    "SALOME 8.5 est installé sur les postes de l'Université Paris 13. \n",
    "\n",
    "Pour démarrer le logiciel :\n",
    "\n",
    "    /LOCAL/salome-edf/appli_V8_5_0/salome\n",
    "\n",
    "Par exemple :\n",
    "\n",
    "    wims-tmp-2019-40@g209-5:~$ /LOCAL/salome-edf/appli_V8_5_0/salome\n",
    "    runSalome running on g209-5.ig-edu.univ-paris13.fr\n",
    "    INFO:MainThread:Problem loading PortManager file: /tmp/.salome_PortManager.cfg\n",
    "    INFO:PortManager:Problem loading PortManager file: /tmp/.salome_PortManager.cfg\n",
    "    Searching for a free port for naming service: 2810 - OK\n",
    "    Searching Naming Service + found in 0.1 seconds\n",
    "    Searching /Kernel/Session in Naming Service +++++++++++++++++++++++++++++\n",
    "    Warning: this type (pyobj,objref) already exists, it will be ignored.\n",
    "    Warning: this type (SALOME_MED/MEDCouplingFieldDoubleCorbaInterface,objref) already exists, it will be ignored.\n",
    "    ++ found in 15.5 seconds\n",
    "    Start SALOME, elapsed time :  16.3 seconds\n",
    "    ****************************************************************\n",
    "         Warning: module HEXABLOCKPLUGIN is improperly configured!\n",
    "         Module HEXABLOCKPLUGIN will not be available in GUI mode!\n",
    "    ****************************************************************\n",
    "    ****************************************************************\n",
    "         Warning: module GMSHPLUGIN is improperly configured!\n",
    "         Module GMSHPLUGIN will not be available in GUI mode!\n",
    "    ****************************************************************\n"
   ]
  },
  {
   "cell_type": "markdown",
   "metadata": {},
   "source": [
    "## OpenTURNS dans SALOME 8.5\n",
    "\n",
    "<img src=\"SALOME-8.5.png\"  style=\"width:800px\">\n",
    "\n",
    "On peut activer le moduler OpenTURNS en cliquant sur l'icône \"OT\" sur fond vert, dans la barre d'icônes, en haut à droite. \n",
    "\n",
    "Cela ouvre la boîte de dialogue \"Activate OpenTURNS\" : appuyer sur \"New\".\n",
    "\n",
    "<img src=\"Activate-OpenTURNS.png\"  style=\"width:600px\">\n",
    "\n",
    "Cela ouvre une boîte de dialogue qui permet de créer une nouvelle étude, ouvrir une étude (dans un fichier .xml) ou d'importer un script Python qui contient une étude (dans un fichier .py).\n",
    "\n",
    "<img src=\"SALOME-OpenTURNS-New-Import.png\"  style=\"width:800px\">"
   ]
  }
 ],
 "metadata": {
  "kernelspec": {
   "display_name": "Python 3",
   "language": "python",
   "name": "python3"
  },
  "language_info": {
   "codemirror_mode": {
    "name": "ipython",
    "version": 3
   },
   "file_extension": ".py",
   "mimetype": "text/x-python",
   "name": "python",
   "nbconvert_exporter": "python",
   "pygments_lexer": "ipython3",
   "version": "3.7.0"
  }
 },
 "nbformat": 4,
 "nbformat_minor": 2
}
