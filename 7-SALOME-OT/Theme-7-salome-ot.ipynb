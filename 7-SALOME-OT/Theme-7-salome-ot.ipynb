{
 "cells": [
  {
   "cell_type": "markdown",
   "metadata": {},
   "source": [
    "# Thème 7 - SALOME et OpenTURNS\n",
    "\n",
    "## Introduction\n",
    "\n",
    "L'objectif de cette séquence est d'utiliser l'interface graphique d'OpenTURNS dans SALOME pour :\n",
    "* créer un métamodèle de krigeage ou de chaos polynomial\n",
    "* explorer des données de manière graphique et interactive\n",
    "\n",
    "## Vue d'ensemble\n",
    "\n",
    "- Le projet SALOME, l'interface graphique : Cours-SALOME-OT.ipynb\n",
    "- Exercice sur la poutre encastrée : Cantilever-Beam/Exercice-SALOME-OT-cantilever-beam.ipynb\n",
    "- Exercice sur les données de prix des maisons dans la région de Boston : Boston-Housing/Housing-Boston-SALOME.ipynb"
   ]
  }
 ],
 "metadata": {
  "kernelspec": {
   "display_name": "Python 3",
   "language": "python",
   "name": "python3"
  },
  "language_info": {
   "codemirror_mode": {
    "name": "ipython",
    "version": 3
   },
   "file_extension": ".py",
   "mimetype": "text/x-python",
   "name": "python",
   "nbconvert_exporter": "python",
   "pygments_lexer": "ipython3",
   "version": "3.7.0"
  }
 },
 "nbformat": 4,
 "nbformat_minor": 2
}
