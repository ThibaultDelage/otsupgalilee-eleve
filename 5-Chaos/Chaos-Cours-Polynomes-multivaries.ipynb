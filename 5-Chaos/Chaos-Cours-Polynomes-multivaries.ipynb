{
 "cells": [
  {
   "cell_type": "markdown",
   "metadata": {},
   "source": [
    "# Polynômes multivariés\n"
   ]
  },
  {
   "cell_type": "markdown",
   "metadata": {},
   "source": [
    "## Résumé\n",
    "\n",
    "Dans cette page, nous présentons la décomposition en polynômes du chaos d'une fonction multivariée. Nous montrons comment créer la base polynômiale multivariée servant de base fonctionnelle à cette décomposition. Nous montrons comment créer les polynômes multivariés par tensorisation de polynômes univariés et analysons différentes règles d'énumérations des multi-indices associés."
   ]
  },
  {
   "cell_type": "markdown",
   "metadata": {},
   "source": [
    "## Références\n",
    "\n",
    "* http://openturns.github.io/openturns/master/theory/meta_modeling/chaos_basis.html\n",
    "* http://openturns.github.io/openturns/master/theory/meta_modeling/orthorgonal_polynomials.html\n",
    "* http://openturns.github.io/openturns/master/user_manual/_generated/openturns.LinearEnumerateFunction.html\n",
    "* http://openturns.github.io/openturns/master/user_manual/_generated/openturns.HyperbolicAnisotropicEnumerateFunction.html"
   ]
  },
  {
   "cell_type": "markdown",
   "metadata": {},
   "source": [
    "## Vecteur aléatoire d'entrée\n",
    "\n",
    "On considère une variable aléatoire $X\\in\\mathbb{R}^p$ où $p$ est la dimension de l'entrée.\n",
    "\n",
    "Supposons que les marginales de $X$ sont indépendantes. \n",
    "\n",
    "Sous ces hypothèses, notons $f_{X_i}$ la loi marginale de la variable aléatoire $X_i$, pour $i=1,...,p$. Puisque les variables sont indépentantes, la densité de probabilité du vecteur aléatoire $X$ est le produit des lois marginales, c'est à dire :\n",
    "$$\n",
    "f_X(x) = \\prod_{i=1}^p f_{X_i}(x_{i})\n",
    "$$\n",
    "pour tout $x\\in\\mathbb{R}^p$. \n"
   ]
  },
  {
   "cell_type": "markdown",
   "metadata": {},
   "source": [
    "## La variable standardisée\n",
    "\n",
    "Pour créer la base polynomiale multivariée, la pratique la plus utilisée consiste à utiliser une transformation iso-probabiliste $T_i$ permettant de transformer chaque variable aléatoire $X_i$ en une variable aléatoire standardisée $U_i$ :\n",
    "\n",
    "$$\n",
    "U_i = T_i(X_i),\n",
    "$$\n",
    "pour $i=1,\\dots,p$.\n",
    "\n",
    "**Exemple : variable uniforme**\n",
    "\n",
    "Si $X$ est une variable uniforme, alors la variable $U$ correspondante est la variable uniforme entre -1 et 1.\n",
    "\n",
    "Considérons la variable $X \\sim \\mathcal{U}([0,10])$. La transformation isoprobabiliste est \n",
    "$$\n",
    "U = X/5 - 1\n",
    "$$\n",
    "Cela mène à la variable standardisée $\\xi \\sim \\mathcal{U}([-1,1])$ et correspond aux polynômes de *Legendre* :\n",
    "$$\n",
    "\\pi_0(U) = 1 ,  \\quad \n",
    "\\pi_1(U) = \\sqrt{3} U , \\quad  \n",
    "\\pi_2(U) = \\frac{\\sqrt{5}}{2}(3U^2-1) ,  \\dots \n",
    "$$\n",
    "\n",
    "**Exemple : variable gaussienne**\n",
    "\n",
    "Si $X$ est une variable gaussienne, alors la variable $U$ correspondante est la variable gaussienne centrée-réduite de moyenne 0 et d'écart-type 1.\n",
    "\n",
    "Considérons la variable $X \\sim \\mathcal{N}(5, 1)$. La transformation isoprobabiliste est \n",
    "$$\n",
    "U = X-5\n",
    "$$. \n",
    "Cela mène à la variable standardisée $U \\sim \\mathcal{N}(0,1)$ et aux polynômes d'Hermite :\n",
    "$$\n",
    "\\pi_0(U) = 1 ,  \\quad \n",
    "\\pi_{1}(U) = U  , \\quad  \n",
    "\\pi_2(U) = \\frac{\\sqrt{2}}{2}  \\left( U^2 - 1 \\right)  ,  \\dots\n",
    "$$\n"
   ]
  },
  {
   "cell_type": "markdown",
   "metadata": {},
   "source": [
    "## Polynôme univariés orthogonaux\n",
    "\n",
    "Pour chaque variable aléatoire marginale $X_i$, nous choisissons une famille de polynômes orthogonaux par rapport à la mesure $f_{X_i}$. Pour $i=1,...,p$, notons \n",
    "$$\n",
    "\\left\\{ \\pi^{(i)}_j, j\\geq 0\\right\\}\n",
    "$$ \n",
    "la famile de polynômes orthogonaux associés à la variable $X_i$, où $\\pi^{(i)}_j$ est le polynôme de degré $j$ associée à la variable $X_i$. \n",
    "\n",
    "On considère le produit scalaire :\n",
    "$$\n",
    "\\left( \\pi^{(i)}_j,\\pi^{(i)}_k \\right) = \\int_{\\mathbb{R}} \\pi^{(i)}_{j}(x) \\pi^{(i)}_{k}(x) f_{X_i}(x_{i}) dx_i,\n",
    "$$\n",
    "pour $j,k\\geq 0$. \n",
    "\n",
    "On dit que les polynômes $\\pi^{(i)}_j$ sont *orthonormés* si le produit scalaire entre deux polynômes est égal à 1 si les polynômes sont égaux et à 0 sinon :\n",
    "$$\n",
    "\\left( \\pi^{(i)}_j,\\pi^{(i)}_k \\right) = \\delta_{j,k},\n",
    "$$\n",
    "pour $j,k\\geq 0$. \n"
   ]
  },
  {
   "cell_type": "markdown",
   "metadata": {},
   "source": [
    "## Polynômes multivariés par tensorisation\n",
    "\n",
    "On peut créer la base polynômiale multivariée par *tensorisation* des polynômes univariés. Ce procédé consiste à multiplier des polynômes univariés de différentes variables pour créer un polynôme multivarié. Pour cela, nous allons définir les multi-indices associés aux degrés des polynômes univariés. Soit ${\\bf \\alpha}$ le multi-indice défini par \n",
    "$$\n",
    "\\alpha = (\\alpha_1,...,\\alpha_p),\n",
    "$$\n",
    "où $\\alpha_1,...,\\alpha_n \\in\\mathbf{N}$. Dans ce multi-indice, la composante $\\alpha_i$ représente le degré du polynôme associé à la variable $X_i$, pour $i=1,...,p$. Alors, le polynôme multivarié $\\psi_{\\alpha}$ est défini comme le produit :\n",
    "$$\n",
    "\\psi_{\\alpha}(x) = \\pi^{(1)}_{\\alpha_1}(x_1) \\times \\cdots \\times \\pi^{(p)}_{\\alpha_p}(x_p)\n",
    "$$\n",
    "pour tout $x\\in\\mathbb{R}^p$. Le degré *total* du polynôme multivarié $\\psi_{\\alpha}$, noté $|\\alpha|$, est la somme des degrés des polynômes multivariés qui le composent :\n",
    "$$\n",
    "|\\alpha| = \\alpha_1 + ... + \\alpha_p.\n",
    "$$\n",
    "\n",
    "La manière la plus simple de créer des polynômes multivariés consiste donc à choisir un multi-indice $\\alpha$ : faire la liste des polynômes multivariés revient donc à faire la liste des multi-indices $\\alpha$. Il existe plusieurs manières d'énumérer les multi-indices associés à un degré total donné :\n",
    "* les polynômes multivariés de degré total égal à zéro,\n",
    "* les polynômes multivariés de degré total égal à 1,\n",
    "* les polynômes multivariés de degré total égal à 2,\n",
    "* etc...\n",
    "\n",
    "Cette règle s'appelle dans OpenTURNS la règle d'énumération *linéaire*. \n",
    "Pour une valeur donnée de $|\\alpha|$, l'algorithme consiste à parcourir toutes les valeurs possibles des degrés $\\alpha_i$ dont la somme vaut $|\\alpha|$. "
   ]
  },
  {
   "cell_type": "markdown",
   "metadata": {},
   "source": [
    "## Polynômes orthogonaux multivariés\n",
    "\n",
    "Soit $\\{\\psi_j\\}_{j\\geq 0}$ une famille de polynômes orthogonaux multivariés. On définit le produit scalaire entre deux polynômes : \n",
    "$$\n",
    "\\left( \\psi_{j}(X),\\psi_{k}(X) \\right) = \\mathbb{E} \\left(\\psi_{j}(X) \\psi_{k}(X)\\right)\n",
    "$$\n",
    "pour $j,k\\geq 1$. Par définition de l'espérance, on a :\n",
    "$$\n",
    "\\left( \\psi_{j}(X),\\psi_{k}(X) \\right) = \\int_{\\mathbb{R}^p} \\psi_{j}(x) \\psi_{k}(x) f_X(x) dx.\n",
    "$$\n",
    "\n",
    "On note $\\delta_{j,k}$ le symbole de Kronecker :\n",
    "$$\n",
    "\\delta_{j,k} = \n",
    "\\begin{cases} \n",
    "1 & \\mbox{si } j=k,  \\\\ \n",
    "0 & \\mbox{si } j \\ne k \n",
    "\\end{cases}\n",
    "$$\n",
    "Si les polynômes univariés sont orthogonaux et si les variables sont indépendantes, on peut démontrer que les polynômes $\\psi_j$ sont orthogonaux, c'est à dire que le produit scalaire est égal à zéro pour deux polynômes différents ou égal à un sinon :\n",
    "$$\n",
    "\\left( \\psi_j(X),\\psi_k(X) \\right) = \\delta_{j,k},\n",
    "$$\n",
    "pour $j,k\\geq 1$.\n"
   ]
  }
 ],
 "metadata": {
  "kernelspec": {
   "display_name": "Python 3",
   "language": "python",
   "name": "python3"
  },
  "language_info": {
   "codemirror_mode": {
    "name": "ipython",
    "version": 3
   },
   "file_extension": ".py",
   "mimetype": "text/x-python",
   "name": "python",
   "nbconvert_exporter": "python",
   "pygments_lexer": "ipython3",
   "version": "3.7.0"
  }
 },
 "nbformat": 4,
 "nbformat_minor": 1
}
