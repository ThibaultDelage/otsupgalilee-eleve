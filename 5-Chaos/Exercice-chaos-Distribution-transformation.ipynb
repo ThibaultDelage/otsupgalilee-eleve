{
 "cells": [
  {
   "cell_type": "markdown",
   "metadata": {},
   "source": [
    "# Transformation iso-probabiliste inverse pour le chaos polynomial\n",
    "\n",
    "## Transformation iso-probabiliste\n",
    "\n",
    "Soit $T$ la transformation iso-probabiliste permettant de transformer la variable aléatoire physique $X$ en la variable aléatoire standardisée $\\xi$ :\n",
    "$$\n",
    "\\xi = T(X),\n",
    "$$\n",
    "pour $i=1,\\dots,p$.\n",
    "\n",
    "Soit $F_X$ la fonction de répartition de la loi de distribution associée à la variable $X$ et soit $F_\\xi$ la fonction de répartition associée à la famille de polynômes orthogonaux. Dans ce cas, la transformation est :\n",
    "$$\n",
    "\\xi = F_\\xi^{-1}\\left(F_X(X)\\right),\n",
    "$$\n",
    "pour tout $X\\in\\mathbb{R}$.\n",
    "\n",
    "## Exemple\n",
    "\n",
    "Supposons qu'on utilise la base des polynômes d'Hermite pour décomposer une variable Log-Normale :\n",
    "* $X$ suit la loi Log-Normale associée aux paramètres suivants : Lognormal($\\mu=3 \\times 10^4$, $\\sigma=9\\times 10^3$), \n",
    "* $Z=\\xi$ suit la loi gaussienne centrée-réduite.\n",
    "\n",
    "\n",
    "Soit $F_{LN}$ la fonction de répartition de la loi log-normale associée à $X$ et $\\Phi$ la fonction de répartition gaussienne centrée-réduite. \n",
    "Alors\n",
    "$$\n",
    "Z = T^{-1} (X) = \\Phi^{-1}(F_{LN}(X)),\n",
    "$$\n",
    "pour tout $X\\in\\mathbb{R}$."
   ]
  },
  {
   "cell_type": "code",
   "execution_count": 1,
   "metadata": {},
   "outputs": [],
   "source": [
    "import openturns as ot"
   ]
  },
  {
   "cell_type": "code",
   "execution_count": 2,
   "metadata": {},
   "outputs": [],
   "source": [
    "Xparam = ot.LogNormalMuSigma(3.0e4, 9.0e3, 15.0e3) # in N\n",
    "X = ot.ParametrizedDistribution(Xparam)"
   ]
  },
  {
   "cell_type": "code",
   "execution_count": 3,
   "metadata": {},
   "outputs": [
    {
     "data": {
      "text/html": [
       "<TABLE><TR><TD></TD><TH>X0</TH></TR>\n",
       "<TR><TD>0</TD><TD>30458.26128720904</TD></TR>\n",
       "<TR><TD>1</TD><TD>39870.80105981596</TD></TR>\n",
       "<TR><TD>2</TD><TD>21982.105976610274</TD></TR>\n",
       "<TR><TD>3</TD><TD>19623.301993670688</TD></TR>\n",
       "<TR><TD>4</TD><TD>25342.17312501015</TD></TR>\n",
       "</TABLE>"
      ],
      "text/plain": [
       "class=Sample name=Unnamed implementation=class=SampleImplementation name=Unnamed size=5 dimension=1 description=[X0] data=[[30458.3],[39870.8],[21982.1],[19623.3],[25342.2]]"
      ]
     },
     "execution_count": 3,
     "metadata": {},
     "output_type": "execute_result"
    }
   ],
   "source": [
    "sampleX = X.getSample(5)\n",
    "sampleX"
   ]
  },
  {
   "cell_type": "markdown",
   "metadata": {},
   "source": [
    "On crée la variable `Z` (i.e. la variable $\\xi$) de loi normale de moyenne nulle et d'écart-type 1."
   ]
  },
  {
   "cell_type": "code",
   "execution_count": 4,
   "metadata": {},
   "outputs": [],
   "source": [
    "Z = ot.Normal()"
   ]
  },
  {
   "cell_type": "code",
   "execution_count": 5,
   "metadata": {},
   "outputs": [
    {
     "data": {
      "text/html": [
       "<TABLE><TR><TD></TD><TH>X0</TH></TR>\n",
       "<TR><TD>0</TD><TD>1.9228783816607844</TD></TR>\n",
       "<TR><TD>1</TD><TD>0.017616714134873267</TD></TR>\n",
       "<TR><TD>2</TD><TD>-0.6608308709714069</TD></TR>\n",
       "<TR><TD>3</TD><TD>-0.27420460386096007</TD></TR>\n",
       "<TR><TD>4</TD><TD>0.8666522257732666</TD></TR>\n",
       "</TABLE>"
      ],
      "text/plain": [
       "class=Sample name=Normal implementation=class=SampleImplementation name=Normal size=5 dimension=1 description=[X0] data=[[1.92288],[0.0176167],[-0.660831],[-0.274205],[0.866652]]"
      ]
     },
     "execution_count": 5,
     "metadata": {},
     "output_type": "execute_result"
    }
   ],
   "source": [
    "sampleZ = Z.getSample(5)\n",
    "sampleZ"
   ]
  },
  {
   "cell_type": "code",
   "execution_count": 6,
   "metadata": {},
   "outputs": [],
   "source": [
    "T = ot.DistributionTransformation(X,Z)"
   ]
  },
  {
   "cell_type": "markdown",
   "metadata": {},
   "source": [
    "La fonction T applique la transformation de $X$ vers $Z$."
   ]
  },
  {
   "cell_type": "code",
   "execution_count": 7,
   "metadata": {},
   "outputs": [
    {
     "data": {
      "text/html": [
       "<TABLE><TR><TD></TD><TH>y0</TH></TR>\n",
       "<TR><TD>0</TD><TD>0.33152642159100365</TD></TR>\n",
       "<TR><TD>1</TD><TD>1.1891273622446332</TD></TR>\n",
       "<TR><TD>2</TD><TD>-1.1017906374564093</TD></TR>\n",
       "<TR><TD>3</TD><TD>-1.8452202743182569</TD></TR>\n",
       "<TR><TD>4</TD><TD>-0.39327811223191134</TD></TR>\n",
       "</TABLE>"
      ],
      "text/plain": [
       "class=Sample name=Unnamed implementation=class=SampleImplementation name=Unnamed size=5 dimension=1 description=[y0] data=[[0.331526],[1.18913],[-1.10179],[-1.84522],[-0.393278]]"
      ]
     },
     "execution_count": 7,
     "metadata": {},
     "output_type": "execute_result"
    }
   ],
   "source": [
    "T(sampleX)"
   ]
  },
  {
   "cell_type": "markdown",
   "metadata": {},
   "source": [
    "La fonction inverse applique la transformation de $Z$ vers $X$."
   ]
  },
  {
   "cell_type": "code",
   "execution_count": 8,
   "metadata": {},
   "outputs": [],
   "source": [
    "Tinverse = T.inverse()"
   ]
  },
  {
   "cell_type": "code",
   "execution_count": 9,
   "metadata": {},
   "outputs": [
    {
     "data": {
      "text/html": [
       "<TABLE><TR><TD></TD><TH>y0</TH></TR>\n",
       "<TR><TD>0</TD><TD>52358.81773925134</TD></TR>\n",
       "<TR><TD>1</TD><TD>27988.658436988095</TD></TR>\n",
       "<TR><TD>2</TD><TD>23916.188196785817</TD></TR>\n",
       "<TR><TD>3</TD><TD>26048.092909269213</TD></TR>\n",
       "<TR><TD>4</TD><TD>35798.43622430877</TD></TR>\n",
       "</TABLE>"
      ],
      "text/plain": [
       "class=Sample name=Unnamed implementation=class=SampleImplementation name=Unnamed size=5 dimension=1 description=[y0] data=[[52358.8],[27988.7],[23916.2],[26048.1],[35798.4]]"
      ]
     },
     "execution_count": 9,
     "metadata": {},
     "output_type": "execute_result"
    }
   ],
   "source": [
    "Tinverse(sampleZ)"
   ]
  }
 ],
 "metadata": {
  "kernelspec": {
   "display_name": "Python 3",
   "language": "python",
   "name": "python3"
  },
  "language_info": {
   "codemirror_mode": {
    "name": "ipython",
    "version": 3
   },
   "file_extension": ".py",
   "mimetype": "text/x-python",
   "name": "python",
   "nbconvert_exporter": "python",
   "pygments_lexer": "ipython3",
   "version": "3.7.0"
  }
 },
 "nbformat": 4,
 "nbformat_minor": 2
}
