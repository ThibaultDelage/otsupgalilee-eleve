{
 "cells": [
  {
   "cell_type": "markdown",
   "metadata": {},
   "source": [
    "# Polynômes de chaos : application au cas de la poutre encastrée\n"
   ]
  },
  {
   "cell_type": "markdown",
   "metadata": {},
   "source": [
    "## Résumé\n",
    "\n",
    "Dans ce notebook, nous présentons la décomposition en chaos polynomial du cas de la poutre encastrée. Nous montrons comment obtenir les indices de Sobol' à partir d'un chaos polynomial."
   ]
  },
  {
   "cell_type": "markdown",
   "metadata": {},
   "source": [
    "# Problem statement\n",
    "\n",
    "We consider a cantilever beam defined by its Young’s modulus $E$, its length $L$ and its section modulus $I$. One end is built in a wall and we apply a concentrated bending load $F$ at the other end of the beam, resulting in a vertical deviation $Y$.\n",
    "\n",
    "<img src=\"poutre.png\" width=\"200\">\n",
    "\n",
    "__Inputs__:  $\\left\\{ E, F, L, I \\right\\}$\n",
    "* $E$ : Young modulus (Pa)\n",
    "* $L$ : Length of beam (cm),\n",
    "* $I$ : Moment of inertia (cm^4),\n",
    "* $F$ : Loading (N)\n",
    "\n",
    "|Variable|  Distribution|\n",
    "| ------------- |-------------|\n",
    "|E|  Beta(r = 0.9, t = 3.5, a = $2.5\\times 10^7$, $b = 5\\times 10^7$) |\n",
    "|F| Lognormal($\\mu=3 \\times 10^4$, $\\sigma=9\\times 10^3$)|\n",
    "|L|Uniform(min=250.0, max= 260.0)|\n",
    "|I| Beta(r = 2.5, t = 4.0, a = 310, b = 450)|\n",
    "\n",
    "The input variables are supposed to be independent.\n",
    "\n",
    "__Output__:\n",
    "\n",
    "The vertical displacement at free end of the cantilever beam is:\n",
    "$$\n",
    "Y  = \\dfrac{F\\, L^3}{3 \\, E \\, I}\n",
    "$$"
   ]
  },
  {
   "cell_type": "markdown",
   "metadata": {},
   "source": [
    "## Un guide pour le chaos polynomial creux dans OpenTURNS\n",
    "\n",
    "Voici les étapes principales et les objets pour créer un polynôme de chaos creux.\n",
    "* Créer un plan d'expériences (de type `Sample`) et évaluer les sorties de la fonction $g$\n",
    "* Créer la base polynomiale multivariée avec la classe `OrthogonalProductPolynomialFactory`. \n",
    "  * La règle par défaut `StandardDistributionPolynomialFactory` sélectionne automatiquement la famille de polynômes en fonction de la distribution ou bien l'orthogonalise si elle n'existe pas. Si nécessaire, personnaliser la famille polynomiale univariée pour chaque marginale (par exemple, pour la variable log-normale). \n",
    "  * Si nécessaire, personnaliser la règle d'énumération avec `HyperbolicAnisotropicEnumerateFunction`.\n",
    "* Choisir une méthode de sélection de modèle avec `LeastSquaresMetaModelSelectionFactory`. \n",
    "  * Par défaut, l'algorithme de sélection de modèle permettant de créer la hiérarchie de modèles du plus creux au moins creux est la méthode Least angle regression (LARS). \n",
    "  * Par défaut, l'algorithme de choix du meilleur modèle dans la hiérarchie de modèles est la méthode `CorrectedLeaveOneOut`. Si nécessaire, choisir `KFold`. \n",
    "* Choisir une règle de calcul des coefficients du polynôme du chaos avec la classe `LeastSquaresStrategy`. Une alternative serait de calculer les coefficients par intégration avec `IntegrationStrategy`.\n",
    "* Choisir un méthode de troncature pour déterminer combien de termes seront retenus dans l'exploration des modèles. La méthode de base est d'utiliser un nombre fixe avec `FixedStrategy`.\n",
    "* Mélangez les ingrédients; votre `FunctionalChaosAlgorithm` est prêt !"
   ]
  },
  {
   "cell_type": "markdown",
   "metadata": {},
   "source": [
    "# Model definition"
   ]
  },
  {
   "cell_type": "code",
   "execution_count": 1,
   "metadata": {},
   "outputs": [],
   "source": [
    "import openturns as ot\n",
    "import numpy as np"
   ]
  },
  {
   "cell_type": "code",
   "execution_count": 2,
   "metadata": {},
   "outputs": [],
   "source": [
    "dist_E = ot.Beta(0.9, 3.1, 2.8e7, 4.8e7)\n",
    "dist_E.setDescription([\"E\"])\n",
    "F_para = ot.LogNormalMuSigma(3.0e4, 9.0e3, 15.0e3) # in N\n",
    "dist_F = ot.ParametrizedDistribution(F_para)\n",
    "dist_F.setDescription([\"F\"])\n",
    "dist_L = ot.Uniform(250., 260.) # in cm\n",
    "dist_L.setDescription([\"L\"])\n",
    "dist_I = ot.Beta(2.5, 4, 310., 450.) # in cm^4\n",
    "dist_I.setDescription([\"I\"])\n",
    "\n",
    "myDistribution = ot.ComposedDistribution([dist_E, dist_F, dist_L, dist_I])"
   ]
  },
  {
   "cell_type": "code",
   "execution_count": 3,
   "metadata": {},
   "outputs": [],
   "source": [
    "dim_input = 4 # dimension of the input\n",
    "dim_output = 1 # dimension of the output\n",
    "\n",
    "def function_beam(X):\n",
    "    E, F, L, I = X\n",
    "    Y = F* (L**3) /  (3 * E * I)\n",
    "    return [Y]\n",
    "\n",
    "g = ot.PythonFunction( dim_input, dim_output, function_beam)\n",
    "g.setInputDescription(myDistribution.getDescription())"
   ]
  },
  {
   "cell_type": "markdown",
   "metadata": {},
   "source": [
    "## Create a polynomial chaos decomposition"
   ]
  },
  {
   "cell_type": "markdown",
   "metadata": {},
   "source": [
    "On crée la base polynomiale multivariée par tensorisation de polynômes univariés avec la règle d'énumération linéaire par défaut."
   ]
  },
  {
   "cell_type": "code",
   "execution_count": 4,
   "metadata": {},
   "outputs": [],
   "source": [
    "multivariateBasis = ot.OrthogonalProductPolynomialFactory([dist_E, dist_F, dist_L, dist_I])"
   ]
  },
  {
   "cell_type": "markdown",
   "metadata": {},
   "source": [
    "Generate an training sample of size N with MC simulation (or retrieve the design from experimental data)."
   ]
  },
  {
   "cell_type": "code",
   "execution_count": 5,
   "metadata": {},
   "outputs": [],
   "source": [
    "N = 50 # size of the experimental design\n",
    "\n",
    "inputTrain = myDistribution.getSample(N)\n",
    "outputTrain = g(inputTrain)"
   ]
  },
  {
   "cell_type": "markdown",
   "metadata": {},
   "source": [
    "Choisit la méthode de sélection de modèle."
   ]
  },
  {
   "cell_type": "code",
   "execution_count": 6,
   "metadata": {},
   "outputs": [],
   "source": [
    "selectionAlgorithm = ot.LeastSquaresMetaModelSelectionFactory()"
   ]
  },
  {
   "cell_type": "markdown",
   "metadata": {},
   "source": [
    "Par défaut, c'est l'algorithme de sélection de modèle LARS qui est utilisé."
   ]
  },
  {
   "cell_type": "code",
   "execution_count": 7,
   "metadata": {
    "scrolled": true
   },
   "outputs": [
    {
     "data": {
      "text/html": [
       "<p>class=LARS</p>"
      ],
      "text/plain": [
       "class=LARS"
      ]
     },
     "execution_count": 7,
     "metadata": {},
     "output_type": "execute_result"
    }
   ],
   "source": [
    "selectionAlgorithm.getBasisSequenceFactory()"
   ]
  },
  {
   "cell_type": "markdown",
   "metadata": {},
   "source": [
    "Par défaut, c'est le critère de leave-one-out (corrigé) qui est utilisé par la méthode de sélection de modèle."
   ]
  },
  {
   "cell_type": "code",
   "execution_count": 8,
   "metadata": {},
   "outputs": [
    {
     "data": {
      "text/html": [
       "<p>class=CorrectedLeaveOneOut</p>"
      ],
      "text/plain": [
       "class=CorrectedLeaveOneOut"
      ]
     },
     "execution_count": 8,
     "metadata": {},
     "output_type": "execute_result"
    }
   ],
   "source": [
    "selectionAlgorithm.getFittingAlgorithm()"
   ]
  },
  {
   "cell_type": "markdown",
   "metadata": {},
   "source": [
    "Définit la règle de calcul des coefficients ; nous choisissons la méthode par résolution d'un problème de moindres carrés linéaires."
   ]
  },
  {
   "cell_type": "code",
   "execution_count": 9,
   "metadata": {},
   "outputs": [],
   "source": [
    "evalStrategy = ot.LeastSquaresStrategy(inputTrain, outputTrain, selectionAlgorithm)"
   ]
  },
  {
   "cell_type": "markdown",
   "metadata": {},
   "source": [
    "Nous devons une règle de troncature : ici, nous avons choisit la `FixedStrategy`, ce qui revient à conserver les `P` premiers polynômes de la base de polynômes. Dans notre cas particulier, nous avons déterminé `P` en utilisant la méthode  `getStrataCumulatedCardinal`, de telle sorte que c'est l'ensemble des polynômes multivariés de degré total inférieur ou égal à 5 qui est conservé. "
   ]
  },
  {
   "cell_type": "code",
   "execution_count": 10,
   "metadata": {},
   "outputs": [
    {
     "data": {
      "text/html": [
       "<p>class=FixedStrategy derived from class=AdaptiveStrategyImplementation maximumDimension=126</p>"
      ],
      "text/plain": [
       "class=FixedStrategy derived from class=AdaptiveStrategyImplementation maximumDimension=126"
      ]
     },
     "execution_count": 10,
     "metadata": {},
     "output_type": "execute_result"
    }
   ],
   "source": [
    "totalDegree = 5\n",
    "enumfunc = multivariateBasis.getEnumerateFunction()\n",
    "P = enumfunc.getStrataCumulatedCardinal(totalDegree)\n",
    "truncationStrategy = ot.FixedStrategy(multivariateBasis, P)\n",
    "truncationStrategy"
   ]
  },
  {
   "cell_type": "markdown",
   "metadata": {},
   "source": [
    "On observe que le nombre de polynômes correspondant à notre règle de troncature est égal à 126.\n",
    "\n",
    "On peut maintenant créer le chaos fonctionnel. "
   ]
  },
  {
   "cell_type": "code",
   "execution_count": 11,
   "metadata": {},
   "outputs": [],
   "source": [
    "chaosalgo = ot.FunctionalChaosAlgorithm(inputTrain, outputTrain, myDistribution, truncationStrategy, evalStrategy)\n",
    "chaosalgo.run()"
   ]
  },
  {
   "cell_type": "markdown",
   "metadata": {},
   "source": [
    "Get the result\n"
   ]
  },
  {
   "cell_type": "code",
   "execution_count": 12,
   "metadata": {},
   "outputs": [
    {
     "data": {
      "text/plain": [
       "openturns.metamodel.FunctionalChaosResult"
      ]
     },
     "execution_count": 12,
     "metadata": {},
     "output_type": "execute_result"
    }
   ],
   "source": [
    "result = chaosalgo.getResult() # get the result\n",
    "type(result)"
   ]
  },
  {
   "cell_type": "markdown",
   "metadata": {},
   "source": [
    "La méthode `getMetaModel` retourne une fonction permettant d'évaluer le métamodèle."
   ]
  },
  {
   "cell_type": "code",
   "execution_count": 13,
   "metadata": {},
   "outputs": [
    {
     "data": {
      "text/plain": [
       "openturns.func.Function"
      ]
     },
     "execution_count": 13,
     "metadata": {},
     "output_type": "execute_result"
    }
   ],
   "source": [
    "metamodel = result.getMetaModel() # get the metamodel\n",
    "type(metamodel)"
   ]
  },
  {
   "cell_type": "markdown",
   "metadata": {},
   "source": [
    "## Validate the metamodel"
   ]
  },
  {
   "cell_type": "markdown",
   "metadata": {},
   "source": [
    "Generate a validation sample (which is independent of the training sample)."
   ]
  },
  {
   "cell_type": "code",
   "execution_count": 14,
   "metadata": {},
   "outputs": [],
   "source": [
    "n_valid = 1000\n",
    "inputTest = myDistribution.getSample(n_valid)\n",
    "outputTest = g(inputTest)"
   ]
  },
  {
   "cell_type": "markdown",
   "metadata": {},
   "source": [
    "La classe `MetaModelValidation` permet de valider le métamodèle sur une base de validation."
   ]
  },
  {
   "cell_type": "code",
   "execution_count": 15,
   "metadata": {},
   "outputs": [],
   "source": [
    "val = ot.MetaModelValidation(inputTest, outputTest, metamodel)"
   ]
  },
  {
   "cell_type": "markdown",
   "metadata": {},
   "source": [
    "Compute the $Q^2$ predictivity coefficient"
   ]
  },
  {
   "cell_type": "code",
   "execution_count": 16,
   "metadata": {},
   "outputs": [
    {
     "data": {
      "text/plain": [
       "0.9935498537159507"
      ]
     },
     "execution_count": 16,
     "metadata": {},
     "output_type": "execute_result"
    }
   ],
   "source": [
    "Q2 = val.computePredictivityFactor()\n",
    "Q2"
   ]
  },
  {
   "cell_type": "markdown",
   "metadata": {},
   "source": [
    "Plot the observed versus the predicted outputs."
   ]
  },
  {
   "cell_type": "code",
   "execution_count": 17,
   "metadata": {
    "scrolled": true
   },
   "outputs": [
    {
     "data": {
      "image/png": "[encoded data removed]",
      "text/plain": [
       "class=Graph name=Metamodel validation implementation=class=GraphImplementation name=Metamodel validation title=Metamodel validation xTitle=model yTitle=metamodel axes=ON grid=ON legendposition=bottomright legendFontSize=1 drawables=[class=Drawable name=Unnamed implementation=class=Curve name=Unnamed derived from class=DrawableImplementation name=Unnamed legend=Model data=class=Sample name=Unnamed implementation=class=SampleImplementation name=Unnamed size=1000 dimension=2 data=[[15.3425,15.3425],[10.2181,10.2181],[7.94944,7.94944],...,[10.4699,10.4699],[23.3103,23.3103],[7.60483,7.60483]] color=blue fillStyle=solid lineStyle=solid pointStyle=none lineWidth=1,class=Drawable name=Unnamed implementation=class=Cloud name=Unnamed derived from class=DrawableImplementation name=Unnamed legend=MetaModel data=class=Sample name=Unnamed implementation=class=SampleImplementation name=Unnamed size=1000 dimension=2 data=[[15.3425,15.1201],[10.2181,9.9913],[7.94944,7.90394],...,[10.4699,10.439],[23.3103,23.19],[7.60483,7.57882]] color=red fillStyle=solid lineStyle=solid pointStyle=plus lineWidth=1]"
      ]
     },
     "execution_count": 17,
     "metadata": {},
     "output_type": "execute_result"
    }
   ],
   "source": [
    "val.drawValidation()"
   ]
  },
  {
   "cell_type": "markdown",
   "metadata": {},
   "source": [
    "## Sensitivity analysis"
   ]
  },
  {
   "cell_type": "markdown",
   "metadata": {},
   "source": [
    "Retrieve Sobol' sensitivity measures associated to the polynomial chaos decomposition of the model."
   ]
  },
  {
   "cell_type": "code",
   "execution_count": 18,
   "metadata": {
    "scrolled": true
   },
   "outputs": [
    {
     "name": "stdout",
     "output_type": "stream",
     "text": [
      " input dimension: 4\n",
      " output dimension: 1\n",
      " basis size: 25\n",
      " mean: [12.5763]\n",
      " std-dev: [4.18011]\n",
      "------------------------------------------------------------\n",
      "Index   | Multi-indice                  | Part of variance  \n",
      "------------------------------------------------------------\n",
      "      2 | [0,1,0,0]                     | 0.776796\n",
      "      1 | [1,0,0,0]                     | 0.134289\n",
      "      4 | [0,0,0,1]                     | 0.0583109\n",
      "      6 | [1,1,0,0]                     | 0.0100374\n",
      "------------------------------------------------------------\n",
      "\n",
      "\n",
      "------------------------------------------------------------\n",
      "Component | Sobol index            | Sobol total index      \n",
      "------------------------------------------------------------\n",
      "        0 | 0.136147               | 0.147643              \n",
      "        1 | 0.777299               | 0.795029              \n",
      "        2 | 0.00882986             | 0.00981764            \n",
      "        3 | 0.0585995              | 0.0667767             \n",
      "------------------------------------------------------------\n",
      "\n",
      "\n"
     ]
    }
   ],
   "source": [
    "chaosSI = ot.FunctionalChaosSobolIndices(result) \n",
    "print( chaosSI.summary() )"
   ]
  },
  {
   "cell_type": "code",
   "execution_count": 19,
   "metadata": {},
   "outputs": [
    {
     "data": {
      "image/png": "[encoded data removed]",
      "text/plain": [
       "class=Graph name=Sobol' indices implementation=class=GraphImplementation name=Sobol' indices title=Sobol' indices xTitle=inputs yTitle=index value axes=ON grid=ON legendposition=topright legendFontSize=1 drawables=[class=Drawable name=First order implementation=class=Cloud name=First order derived from class=DrawableImplementation name=First order legend=First order data=class=Sample name=Unnamed implementation=class=SampleImplementation name=Unnamed size=4 dimension=2 data=[[1,0.136147],[2,0.777299],[3,0.00882986],[4,0.0585995]] color=red fillStyle=solid lineStyle=solid pointStyle=circle lineWidth=1,class=Drawable name=Total order implementation=class=Cloud name=Total order derived from class=DrawableImplementation name=Total order legend=Total order data=class=Sample name=Unnamed implementation=class=SampleImplementation name=Unnamed size=4 dimension=2 data=[[1.1,0.147643],[2.1,0.795029],[3.1,0.00981764],[4.1,0.0667767]] color=blue fillStyle=solid lineStyle=solid pointStyle=square lineWidth=1,class=Drawable name=Unnamed implementation=class=Text name=Unnamed derived from class=DrawableImplementation name=Unnamed legend= data=class=Sample name=Unnamed implementation=class=SampleImplementation name=Unnamed size=4 dimension=2 data=[[1.2,0.141895],[2.2,0.786164],[3.2,0.00932375],[4.2,0.0626881]] color=black fillStyle=solid lineStyle=solid pointStyle=plus lineWidth=1]"
      ]
     },
     "execution_count": 19,
     "metadata": {},
     "output_type": "execute_result"
    }
   ],
   "source": [
    "first_order = [chaosSI.getSobolIndex(i) for i in range(dim_input)]\n",
    "total_order = [chaosSI.getSobolTotalIndex(i) for i in range(dim_input)]\n",
    "input_names = g.getInputDescription()\n",
    "ot.SobolIndicesAlgorithm.DrawSobolIndices(input_names, first_order, total_order)"
   ]
  },
  {
   "cell_type": "markdown",
   "metadata": {},
   "source": [
    "## Exercice 1 : pourquoi éviter le calcul du R2\n",
    "\n",
    "L'objectif de cet exercice est de clarifier le rôle d'un plan d'expériences d'apprentissage en comparaison d'un plan d'expériences de validation. A travers le calcul des coefficients $R^2$ et $Q^2$, nous analysons le problème du surapprentissage d'un métamodèle.\n",
    "\n",
    "Soit $\\left\\{x^{(j)}_a\\right\\}_{j=1,...,n}$ un échantillon i.i.d. du vecteur aléatoire $X$ que nous allons utiliser pour la phase d'apprentissage du métamodèle. \n",
    "\n",
    "On note $g$ le modèle et $\\tilde{g}$ le métamodèle. \n",
    "\n",
    "Soient \n",
    "$$\n",
    "y^{(j)}_a = g\\left(x^{(j)}_a\\right), \\qquad \\tilde{y}^{(j)}_a = \\tilde{g}\\left(x^{(j)}_a\\right)\n",
    "$$\n",
    "pour $j=1,...,n$ les sorties du modèle et du métamodèle sur la base d'apprentissage. \n",
    "\n",
    "Supposons que le plan d'expériences $\\left\\{x^{(j)}_a\\right\\}_{j=1,...,n}$ est utilisé pour estimer les coefficients d'un modèle de regression linéaire tel qu'un métamodèle de chaos polynomial par exemple. Dans ce contexte, le coefficient $R^2$ est \n",
    "$$\n",
    "R^2(g(x_a),\\tilde{g}(x_a)) = 1 - \\frac{ \\sum_{j=1}^N \\left( y^{(j)}_a - \\tilde{y}^{(j)}_a \\right)^2  }{ \\sum_{j=1}^N \\left( y^{(j)}_a - \\bar{y}_a \\right)^2 }\n",
    "$$\n",
    "où $\\bar{y}_a = \\frac{1} {N} \\sum_{i=1}^N y^{(j)}_a$.\n",
    "\n",
    "Supposons qu'un second plan d'expériences de validation du métamodèle est généré : $\\left\\{x^{(j)}_v\\right\\}_{j=1,...,n}$. L'objectif de ce second plan d'expériences est de tester le métamodèle sur des points d'entrées que le métamodèle n'a pas considéré pour estimer ses coefficients.\n",
    "\n",
    "Soient $g(x_v)$ et $\\tilde{g}(x_v)$ les sorties du modèle et du métamodèle sur le plan d'expériences de validation. \n",
    "Dans ce contexte, le coefficient $Q^2$ est égal au coefficient $R^2$ appliqué au plan d'expériences de validation :\n",
    "$$\n",
    "Q^2 = R^2(g(x_v),\\tilde{g}(x_v)).\n",
    "$$\n",
    "\n",
    "Dans le contexte de tout métamodèle, et en particulier du chaos polynomial, il est plus prudent d'utiliser le coefficient $Q^2$ pour vérifier la qualité du métamodèle. En effet, lorsque le nombre de coefficients dans le chaos polynomial est suffisamment grand relativement à la taille du plan d'expériences, le coefficient $R^2$ peut laisser penser à un modèle de bonne qualité (i.e. proche de 1), mais le coefficient $Q^2$ peut révéler un modèle de mauvaise qualité (i.e. proche de 0). Cette situation est caractéristique d'un surapprentrissage.\n",
    "\n",
    "- Utiliser la méthode `getRelativeErrors` de l'objet `result` (de type `FunctionalChaosResult`). \n",
    "Cette fonction retourne la valeur de \n",
    "$$\n",
    "\\frac{ \\sum_{j=1}^N \\left( y^{(j)}_a - \\tilde{y}^{(j)}_a \\right)^2  }{ \\sum_{j=1}^N \\left( y^{(j)}_a - \\bar{y}_a \\right)^2 }\n",
    "$$\n",
    "- Calculer le coefficient $R^2$.\n",
    "- Qu'observez-vous ?"
   ]
  },
  {
   "cell_type": "markdown",
   "metadata": {},
   "source": [
    "## Solution de l'exercice 1 : pourquoi éviter le calcul du R2\n",
    "\n",
    "Get the relative error of the metamodel on the training sample, compute $R^2$."
   ]
  },
  {
   "cell_type": "code",
   "execution_count": 20,
   "metadata": {},
   "outputs": [
    {
     "data": {
      "text/plain": [
       "8.415306723568991e-05"
      ]
     },
     "execution_count": 20,
     "metadata": {},
     "output_type": "execute_result"
    }
   ],
   "source": [
    "result.getRelativeErrors()[0]"
   ]
  },
  {
   "cell_type": "markdown",
   "metadata": {},
   "source": [
    "$R^2$ indicator:"
   ]
  },
  {
   "cell_type": "code",
   "execution_count": 21,
   "metadata": {
    "scrolled": false
   },
   "outputs": [
    {
     "name": "stdout",
     "output_type": "stream",
     "text": [
      "R2 = 0.9999\n"
     ]
    }
   ],
   "source": [
    "R2 = 1 - result.getRelativeErrors()[0]\n",
    "print(r'R2 = %.4f'%R2)"
   ]
  },
  {
   "cell_type": "markdown",
   "metadata": {},
   "source": [
    "On observe que le coefficient $R^2$ est très proche de 1. Cela laisse penser que le métamodèle est d'excellente qualité, ce qui peut être vrai ou faux en fonction des situations. Dans tous les cas, ce n'est pas nécessairement une bonne métrique pour qualifier le métamodèle : on préfère en général utiliser un plan d'expérience de validation et calculer le coefficient $Q^2$. "
   ]
  },
  {
   "cell_type": "markdown",
   "metadata": {},
   "source": [
    "## Exercice 2 : décroissance des coefficients\n",
    "\n",
    "La fonction suivante produit un graphique présentant l'évolution de la valeur absolue des coefficients du chaos polynomial en fonction du degré de chaque terme polynomial dans la décomposition."
   ]
  },
  {
   "cell_type": "code",
   "execution_count": 22,
   "metadata": {},
   "outputs": [],
   "source": [
    "def plotCoefficientValueVSDegree(polynomialChaosResult):\n",
    "    # Get coefficients\n",
    "    coefficients = polynomialChaosResult.getCoefficients()\n",
    "    abscoeff = [abs(coefficients[i][0]) for i in range(len(coefficients))]\n",
    "    # Get total degree\n",
    "    indices = result.getIndices()\n",
    "    nbcoeffs = indices.getSize()\n",
    "    total_p = []\n",
    "    for k in range(nbcoeffs):\n",
    "        multiindex = enumfunc(indices[k])\n",
    "        totaldegree = sum(multiindex)\n",
    "        total_p.append(totaldegree)\n",
    "    #\n",
    "    graph = ot.Graph(\"Polynomial chaos result\",\"Total polynomial degree\",\"Coefficient absolute value\",True)\n",
    "    cloud = ot.Cloud(total_p,abscoeff)\n",
    "    graph.add(cloud)\n",
    "    return graph"
   ]
  },
  {
   "cell_type": "markdown",
   "metadata": {},
   "source": [
    "Utiliser la fonction `plotCoefficientValueVSDegree` sur le résultat du chaos polynomial : qu'observez-vous ?"
   ]
  },
  {
   "cell_type": "markdown",
   "metadata": {},
   "source": [
    "## Solution de l'exercice 2"
   ]
  },
  {
   "cell_type": "markdown",
   "metadata": {},
   "source": [
    "Plot the coefficients absolute values as a function of total polynomial degree: high degree polynomials contribute less than low-degree terms to the response's variability"
   ]
  },
  {
   "cell_type": "code",
   "execution_count": 23,
   "metadata": {},
   "outputs": [
    {
     "data": {
      "image/png": "[encoded data removed]",
      "text/plain": [
       "class=Graph name=Polynomial chaos result implementation=class=GraphImplementation name=Polynomial chaos result title=Polynomial chaos result xTitle=Total polynomial degree yTitle=Coefficient absolute value axes=ON grid=ON legendposition= legendFontSize=1 drawables=[class=Drawable name=Unnamed implementation=class=Cloud name=Unnamed derived from class=DrawableImplementation name=Unnamed legend= data=class=Sample name=Unnamed implementation=class=SampleImplementation name=Unnamed size=25 dimension=2 data=[[0,12.5763],[1,1.53182],[1,3.68418],[1,0.392794],[1,1.0094],[2,0.180171],[2,0.418793],[2,0.0323062],[2,0.142062],[2,0.093777],[2,0.342129],[2,0.0407665],[2,0.07101],[3,0.0256574],[3,0.025653],[3,0.0472864],[3,0.00676376],[3,0.117168],[3,0.0270297],[5,0.00401666],[5,0.0215097],[5,0.013669],[5,0.000150612],[5,0.00077132],[5,0.0106706]] color=blue fillStyle=solid lineStyle=solid pointStyle=plus lineWidth=1]"
      ]
     },
     "execution_count": 23,
     "metadata": {},
     "output_type": "execute_result"
    }
   ],
   "source": [
    "plotCoefficientValueVSDegree(result)"
   ]
  },
  {
   "cell_type": "markdown",
   "metadata": {},
   "source": [
    "## Exercice 3 : réduction de la taille du plan d'expériences d'apprentissage\n",
    "\n",
    "* Use an experimental design of size __N = 25__. \n",
    "* Rerun the analysis\n",
    "* Compute the $Q^2$ predictivity factor.(Hint : reduce the degree of the polynomial...)\n",
    "* Plot the metamodel validation graphics.\n",
    "* What should we conclude ? \n",
    "* Can you identify 5 ways to improve the quality of the metamodel ? "
   ]
  },
  {
   "cell_type": "markdown",
   "metadata": {},
   "source": [
    "## Solution de l'exercice 3 : réduction de la taille du plan d'expériences d'apprentissage\n"
   ]
  },
  {
   "cell_type": "markdown",
   "metadata": {},
   "source": [
    "Puisque nous réduisons la taille du plan d'expérience, il s'avère que le calcul d'un chaos de qualité est plus difficile. Pour rendre l'estimation des coefficients moins sensible au plan d'expériences, nous suggérons de réduire le degré du polynôme. Un degré maximum égal à 1 fonctionne souvent correctement."
   ]
  },
  {
   "cell_type": "code",
   "execution_count": 38,
   "metadata": {},
   "outputs": [
    {
     "data": {
      "image/png": "[encoded data removed]",
      "text/plain": [
       "class=Graph name=Metamodel validation implementation=class=GraphImplementation name=Metamodel validation title=Q2=97.08% xTitle=model yTitle=metamodel axes=ON grid=ON legendposition=bottomright legendFontSize=1 drawables=[class=Drawable name=Unnamed implementation=class=Curve name=Unnamed derived from class=DrawableImplementation name=Unnamed legend=Model data=class=Sample name=Unnamed implementation=class=SampleImplementation name=Unnamed size=1000 dimension=2 data=[[11.7403,11.7403],[16.3568,16.3568],[15.6814,15.6814],...,[15.0579,15.0579],[10.2685,10.2685],[16.1489,16.1489]] color=blue fillStyle=solid lineStyle=solid pointStyle=none lineWidth=1,class=Drawable name=Unnamed implementation=class=Cloud name=Unnamed derived from class=DrawableImplementation name=Unnamed legend=MetaModel data=class=Sample name=Unnamed implementation=class=SampleImplementation name=Unnamed size=1000 dimension=2 data=[[11.7403,12.0427],[16.3568,15.9101],[15.6814,15.9106],...,[15.0579,14.5888],[10.2685,10.3761],[16.1489,15.3095]] color=red fillStyle=solid lineStyle=solid pointStyle=plus lineWidth=1]"
      ]
     },
     "execution_count": 38,
     "metadata": {},
     "output_type": "execute_result"
    }
   ],
   "source": [
    "N = 25 # size of the experimental design\n",
    "inputTrain = myDistribution.getSample(N)\n",
    "outputTrain = g(inputTrain)\n",
    "#\n",
    "approximationAlgorithm = ot.LeastSquaresMetaModelSelectionFactory()\n",
    "evalStrategy = ot.LeastSquaresStrategy(inputTrain, outputTrain, approximationAlgorithm)\n",
    "totalDegree = 1 # A reduced polynomial degree\n",
    "enumfunc = multivariateBasis.getEnumerateFunction()\n",
    "P = enumfunc.getStrataCumulatedCardinal(totalDegree)\n",
    "truncationBasisStrategy = ot.FixedStrategy(multivariateBasis, P)\n",
    "chaosalgo = ot.FunctionalChaosAlgorithm(inputTrain, outputTrain, myDistribution, truncationBasisStrategy, evalStrategy)\n",
    "chaosalgo.run()\n",
    "#\n",
    "result = chaosalgo.getResult()\n",
    "metamodel = result.getMetaModel() # get the metamodel\n",
    "#\n",
    "n_valid = 1000\n",
    "inputTest = myDistribution.getSample(n_valid)\n",
    "outputTest = g(inputTest)\n",
    "#\n",
    "val = ot.MetaModelValidation(inputTest, outputTest, metamodel)\n",
    "Q2 = val.computePredictivityFactor()\n",
    "graph = val.drawValidation()\n",
    "graph.setTitle(\"Q2=%.2f%%\" % (100*Q2))\n",
    "graph"
   ]
  },
  {
   "cell_type": "markdown",
   "metadata": {},
   "source": [
    "On observe que le coefficient $Q^2$ est moins élevé qu'avec le plan d'expériences précédent. \n",
    "\n",
    "Pour améliorer la qualité du métamodèle, plusieurs options sont possibles.\n",
    "1. La taille du plan d'expériences pourrait être augmentée. C'est une option qui nécessite d'évaluer la fonction $g$ sur un plus grand nombre de points d'entrée, ce qui peut être coûteux.\n",
    "1. Le degré du polynôme pourrait être modifié. En effet, un polynôme de degré moins élevé est associé à un moins grand nombre de coefficients, qui sont plus faciles à estimer. Au contraire, il peut s'avérer que le modèle est très nonlinéaire, ce qui peut nécessiter un degré polynomial élevé.\n",
    "1. On peut changer de plan d'expériences et utiliser, par exemple, une séquence à faible discrépance ou un plan LHS. C'est une option qui nécessite d'évaluer la fonction $g$ sur des nouveaux points d'entrée, ce qui peut être coûteux.\n",
    "1. On pourrait changer la base polynomiale orthogonale univariée. Par exemple, il se peut que la base orthogonale associée à la loi log-normale pose une difficulté dans ce cas particulier (car la distribution log-normale n'est pas déterminée de manière unique par ses moments). On pourrait remplacer la famille de polynômes associée à la variable $F$ par la famille des polynômes de Laguerre, qui est également associée à des variables positives comme la loi log-normale.\n",
    "1. On pourrait changer la règle d'énumération par une règle qui favorise les coefficients associés aux degrés élevés, sans augmenter excessivement le nombre de coefficients, comme la règle hyperbolique par exemple."
   ]
  },
  {
   "cell_type": "markdown",
   "metadata": {},
   "source": [
    "## Exercice 4 : énumération hyperbolique et plan d'expériences de taille 25\n",
    "\n",
    "* Use an hyperbolic enumeration with a training sample size equal to __N = 25__. \n",
    "* Compute the $Q^2$ coefficient. \n",
    "* Plot the metamodel validation graphics.\n",
    "* Is the quality of the chaos acceptable ?"
   ]
  },
  {
   "cell_type": "markdown",
   "metadata": {},
   "source": [
    "## Solution de l'exercice 4 : énumération hyperbolique et plan d'expériences de taille 25\n"
   ]
  },
  {
   "cell_type": "code",
   "execution_count": 25,
   "metadata": {},
   "outputs": [
    {
     "data": {
      "image/png": "[encoded data removed]",
      "text/plain": [
       "class=Graph name=Metamodel validation implementation=class=GraphImplementation name=Metamodel validation title=Q2=98.82% xTitle=model yTitle=metamodel axes=ON grid=ON legendposition=bottomright legendFontSize=1 drawables=[class=Drawable name=Unnamed implementation=class=Curve name=Unnamed derived from class=DrawableImplementation name=Unnamed legend=Model data=class=Sample name=Unnamed implementation=class=SampleImplementation name=Unnamed size=1000 dimension=2 data=[[15.2656,15.2656],[12.2032,12.2032],[14.4682,14.4682],...,[10.5902,10.5902],[35.9282,35.9282],[9.39702,9.39702]] color=blue fillStyle=solid lineStyle=solid pointStyle=none lineWidth=1,class=Drawable name=Unnamed implementation=class=Cloud name=Unnamed derived from class=DrawableImplementation name=Unnamed legend=MetaModel data=class=Sample name=Unnamed implementation=class=SampleImplementation name=Unnamed size=1000 dimension=2 data=[[15.2656,15.3481],[12.2032,12.2933],[14.4682,14.4745],...,[10.5902,10.4342],[35.9282,34.9981],[9.39702,9.29596]] color=red fillStyle=solid lineStyle=solid pointStyle=plus lineWidth=1]"
      ]
     },
     "execution_count": 25,
     "metadata": {},
     "output_type": "execute_result"
    }
   ],
   "source": [
    "dim_input = 4\n",
    "polyColl = ot.PolynomialFamilyCollection(dim_input)\n",
    "polyColl[0] = ot.StandardDistributionPolynomialFactory(dist_E)\n",
    "polyColl[1] = ot.StandardDistributionPolynomialFactory(dist_F) \n",
    "polyColl[2] = ot.StandardDistributionPolynomialFactory(dist_L)\n",
    "polyColl[3] = ot.StandardDistributionPolynomialFactory(dist_I)\n",
    "#\n",
    "p = 5\n",
    "q = 0.6# the q-quasi-norm parameter\n",
    "enumerateFunction = ot.HyperbolicAnisotropicEnumerateFunction(dim_input, q)\n",
    "multivariateBasis = ot.OrthogonalProductPolynomialFactory(polyColl, enumerateFunction)\n",
    "#\n",
    "N = 25 # size of the experimental design\n",
    "inputTrain = myDistribution.getSample(N)\n",
    "outputTrain = g(inputTrain)\n",
    "#\n",
    "approximationAlgorithm = ot.LeastSquaresMetaModelSelectionFactory()\n",
    "evalStrategy = ot.LeastSquaresStrategy(inputTrain, outputTrain, approximationAlgorithm)\n",
    "totalDegree = 5\n",
    "P = enumerateFunction.getStrataCumulatedCardinal(totalDegree)\n",
    "truncationBasisStrategy = ot.FixedStrategy(multivariateBasis, P)\n",
    "chaosalgo = ot.FunctionalChaosAlgorithm(inputTrain, outputTrain, myDistribution, truncationBasisStrategy, evalStrategy)\n",
    "chaosalgo.run()\n",
    "#\n",
    "result = chaosalgo.getResult()\n",
    "metamodel = result.getMetaModel() # get the metamodel\n",
    "#\n",
    "n_valid = 1000\n",
    "inputTest = myDistribution.getSample(n_valid)\n",
    "outputTest = g(inputTest)\n",
    "#\n",
    "val = ot.MetaModelValidation(inputTest, outputTest, metamodel)\n",
    "Q2 = val.computePredictivityFactor()\n",
    "graph = val.drawValidation()\n",
    "graph.setTitle(\"Q2=%.2f%%\" % (100*Q2))\n",
    "graph"
   ]
  },
  {
   "cell_type": "markdown",
   "metadata": {},
   "source": [
    "The metamodel is more accurate than using a linear enumeration."
   ]
  },
  {
   "cell_type": "markdown",
   "metadata": {},
   "source": [
    "## Exercice 5 : analyse des résultats de la sélection de modèle\n",
    "\n",
    "L'objectif de cet exercice est d'analyser les résultats de la sélection de modèle dans le but de réaliser un diagnostique de la qualité du métamodèle obtenu.\n",
    "\n",
    "Considérons le ratio :\n",
    "```\n",
    "nbcoeffs / P\n",
    "```\n",
    "où `P` est le nombre maximal de coefficients associé à la règle d'énumération. Ce ratio entre 0 et 1 représente la proportions de termes retenus dans la méthode de sélection de modèle. \n",
    "* Si ce ratio est proche de zéro (par exemple inférieur à 0.01), alors c'est que le modèle est très creux car un faible nombre de coefficients suffit pour bien représenter la fonction. Dans ce cas, on aurait peut-être pu obtenir une qualité équivalente en utilisant un calcul plus moins coûteux en diminuant la valeur de `P`.\n",
    "* Si ce ratio est proche de un (par exemple supérieur à 0.99), alors c'est que le modèle est très plein car presque tous les coefficients ont étés nécessaires pour bien représenter la fonction. Dans ce cas, on devrait peut-être améliorer la qualité en utilisant en augmentant la valeur de `P` (cela sera plus coûteux en termes de temps de calcul, sans nécessairement nécessiter de nouvelles évaluations de la fonction $g$).\n",
    "\n",
    "L'objectif de cet exercice est d'explorer les différentes méthodes de l'objet `result`, une instance de la classe `FunctionalChaosResult`.\n",
    "* Utiliser la méthode `getIndices` pour créer la variable `indices` contenant la liste des indices des coefficients sélectionnés par la méthode. Afficher ces indices.\n",
    "* Utiliser la méthode `getSize` de la variable `indices` pour obtenir le nombre de coefficients sélectionnés par la méthode.\n",
    "* Utiliser la méthode `getCoefficients` pour obtenir la liste des valeurs des coefficients sélectionnés par la méthode. Afficher ces coefficients.\n",
    "* Calculer le ratio `nbcoeffs / P`. Quelle est la valeur obtenue ? Que peut-on conclure relativement à la qualité du métamodèle ?\n",
    "* La fonction `printCoefficientsTable` suivante utilise la règle d'énumération et le résultat d'un chaos polynomial pour afficher une table présentant les multi-indices, le degré du polynôme associé et la valeur du coefficient. "
   ]
  },
  {
   "cell_type": "code",
   "execution_count": 26,
   "metadata": {},
   "outputs": [],
   "source": [
    "def printCoefficientsTable(enumerateFunction,polynomialChaosResult):\n",
    "    indices = polynomialChaosResult.getIndices()\n",
    "    nbcoeffs = indices.getSize()\n",
    "    print(\"# Multi-indice : Value (Degree)\")\n",
    "    for k in range(nbcoeffs):\n",
    "        multiindex = enumerateFunction(indices[k])\n",
    "        degree = sum(multiindex)\n",
    "        c = coefficients[k][0]\n",
    "        print(\"#%d, %s (%s) : %s\" % (k,multiindex,degree,c))\n",
    "    return"
   ]
  },
  {
   "cell_type": "markdown",
   "metadata": {},
   "source": [
    "Utiliser la fonction `printCoefficientsTable` avec les résultats du calcul. Qu'observez-vous ?"
   ]
  },
  {
   "cell_type": "markdown",
   "metadata": {},
   "source": [
    "## Solution de l'exercice 5 : analyse des résultats de la sélection de modèle"
   ]
  },
  {
   "cell_type": "code",
   "execution_count": 27,
   "metadata": {},
   "outputs": [
    {
     "data": {
      "text/plain": [
       "openturns.metamodel.FunctionalChaosResult"
      ]
     },
     "execution_count": 27,
     "metadata": {},
     "output_type": "execute_result"
    }
   ],
   "source": [
    "type(result)"
   ]
  },
  {
   "cell_type": "markdown",
   "metadata": {},
   "source": [
    "Display active polynomials "
   ]
  },
  {
   "cell_type": "code",
   "execution_count": 28,
   "metadata": {},
   "outputs": [
    {
     "data": {
      "text/html": [
       "<p>[0,1,2,3,4,5,13,19]</p>"
      ],
      "text/plain": [
       "[0,1,2,3,4,5,13,19]"
      ]
     },
     "execution_count": 28,
     "metadata": {},
     "output_type": "execute_result"
    }
   ],
   "source": [
    "indices = result.getIndices()\n",
    "indices"
   ]
  },
  {
   "cell_type": "markdown",
   "metadata": {},
   "source": [
    "Display active polynomials coefficients"
   ]
  },
  {
   "cell_type": "code",
   "execution_count": 29,
   "metadata": {},
   "outputs": [
    {
     "data": {
      "text/plain": [
       "8"
      ]
     },
     "execution_count": 29,
     "metadata": {},
     "output_type": "execute_result"
    }
   ],
   "source": [
    "nbcoeffs = indices.getSize()\n",
    "nbcoeffs"
   ]
  },
  {
   "cell_type": "code",
   "execution_count": 30,
   "metadata": {},
   "outputs": [
    {
     "data": {
      "text/html": [
       "<TABLE><TR><TD></TD><TH>v0</TH></TR>\n",
       "<TR><TD>0</TD><TD>12.554870864663961</TD></TR>\n",
       "<TR><TD>1</TD><TD>-1.5861493982033457</TD></TR>\n",
       "<TR><TD>2</TD><TD>3.610131900184884</TD></TR>\n",
       "<TR><TD>3</TD><TD>0.3618497195245055</TD></TR>\n",
       "<TR><TD>4</TD><TD>-0.8312432026346882</TD></TR>\n",
       "<TR><TD>5</TD><TD>0.10640661176874677</TD></TR>\n",
       "<TR><TD>6</TD><TD>-0.3207500712512443</TD></TR>\n",
       "<TR><TD>7</TD><TD>0.07525532317653025</TD></TR>\n",
       "</TABLE>"
      ],
      "text/plain": [
       "class=Sample name=Unnamed implementation=class=SampleImplementation name=Unnamed size=8 dimension=1 data=[[12.5549],[-1.58615],[3.61013],[0.36185],[-0.831243],[0.106407],[-0.32075],[0.0752553]]"
      ]
     },
     "execution_count": 30,
     "metadata": {},
     "output_type": "execute_result"
    }
   ],
   "source": [
    "coefficients = result.getCoefficients()\n",
    "coefficients"
   ]
  },
  {
   "cell_type": "markdown",
   "metadata": {},
   "source": [
    "in percentage of the total number of candidate polynomials"
   ]
  },
  {
   "cell_type": "code",
   "execution_count": 31,
   "metadata": {},
   "outputs": [
    {
     "name": "stdout",
     "output_type": "stream",
     "text": [
      "34.78 %\n"
     ]
    }
   ],
   "source": [
    "polyCandidateRate = nbcoeffs * 100. / P\n",
    "print('%.2f %%' % (polyCandidateRate) )"
   ]
  },
  {
   "cell_type": "markdown",
   "metadata": {},
   "source": [
    "Le ratio est égal à 34.78%, ce qui est plutôt le signe d'un chaos polynomial de qualité. Comme ce ratio n'est ni trop petit ni trop grand, on peut légitimement conserver la valeur de `P` que l'on a choisie."
   ]
  },
  {
   "cell_type": "markdown",
   "metadata": {},
   "source": [
    "Print polynomials degrees and coefficients for active terms"
   ]
  },
  {
   "cell_type": "code",
   "execution_count": 32,
   "metadata": {},
   "outputs": [
    {
     "name": "stdout",
     "output_type": "stream",
     "text": [
      "# Multi-indice : Value (Degree)\n",
      "#0, [0,0,0,0] (0) : 12.554870864663961\n",
      "#1, [1,0,0,0] (1) : -1.5861493982033457\n",
      "#2, [0,1,0,0] (1) : 3.610131900184884\n",
      "#3, [0,0,1,0] (1) : 0.3618497195245055\n",
      "#4, [0,0,0,1] (1) : -0.8312432026346882\n",
      "#5, [2,0,0,0] (2) : 0.10640661176874677\n",
      "#6, [0,0,1,1] (2) : -0.3207500712512443\n",
      "#7, [1,2,0,0] (3) : 0.07525532317653025\n"
     ]
    }
   ],
   "source": [
    "printCoefficientsTable(enumfunc,result)"
   ]
  }
 ],
 "metadata": {
  "kernelspec": {
   "display_name": "Python 3",
   "language": "python",
   "name": "python3"
  },
  "language_info": {
   "codemirror_mode": {
    "name": "ipython",
    "version": 3
   },
   "file_extension": ".py",
   "mimetype": "text/x-python",
   "name": "python",
   "nbconvert_exporter": "python",
   "pygments_lexer": "ipython3",
   "version": "3.7.0"
  }
 },
 "nbformat": 4,
 "nbformat_minor": 1
}
