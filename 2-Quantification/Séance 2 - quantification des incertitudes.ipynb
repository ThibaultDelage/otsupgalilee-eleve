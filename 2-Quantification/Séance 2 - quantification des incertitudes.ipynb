{
 "cells": [
  {
   "cell_type": "markdown",
   "metadata": {},
   "source": [
    "# Séance 2 - quantification des incertitudes\n",
    "\n",
    "## Vue d'ensemble\n",
    "\n",
    "- Exerice - Approfondissement sur les distributions 1D : Approfondissement-distributions-1D.ipynb\n",
    "- Rappels de cours - Ajustement d'une loi 1D sur un échantillon : Ajustement-distribution-1D.ipynb\n",
    "- Exercice - ajustement d'une loi 1D sur un échantillon de modules d'Young : cantilever-beam-fit-distribution.ipynb"
   ]
  }
 ],
 "metadata": {
  "kernelspec": {
   "display_name": "Python 3",
   "language": "python",
   "name": "python3"
  },
  "language_info": {
   "codemirror_mode": {
    "name": "ipython",
    "version": 3
   },
   "file_extension": ".py",
   "mimetype": "text/x-python",
   "name": "python",
   "nbconvert_exporter": "python",
   "pygments_lexer": "ipython3",
   "version": "3.7.0"
  }
 },
 "nbformat": 4,
 "nbformat_minor": 2
}
