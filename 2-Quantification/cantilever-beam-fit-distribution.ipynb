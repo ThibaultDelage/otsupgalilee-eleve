{
 "cells": [
  {
   "cell_type": "markdown",
   "metadata": {},
   "source": [
    "# Quantification des incertitudes\n",
    "\n",
    "## Résumé\n",
    "\n",
    "Dans cette page, nous utilisons le cas de sollicitation d'une poutre en flexion dans le but d'identifier la loi qui s'ajuste à un échantillon unidimensionnel."
   ]
  },
  {
   "cell_type": "markdown",
   "metadata": {},
   "source": [
    "# Introduction"
   ]
  },
  {
   "cell_type": "markdown",
   "metadata": {},
   "source": [
    "On considère une poutre dont le module d'Young est noté $E$ (Pa).\n",
    "\n",
    "<img src=\"poutre.png\" width=\"200\">\n",
    "\n",
    "La distribution de référence pour la variable $E$ est :\n",
    "$$\n",
    "Beta\\left(r = 0.9, \\, t = 3.5, \\, a = 25\\times 10^6, \\, b = 50\\times 10^6\\right)\n",
    "$$\n",
    "On suppose que cette distribution est inconnue. \n",
    "\n",
    "On dispose d'un échantillon de 229 mesures de $E$ dans le fichier `sample_E.csv`. L'objectif de cet exercice est d'identifier la loi qui s'ajuste le mieux à cet échantillon. "
   ]
  },
  {
   "cell_type": "code",
   "execution_count": 1,
   "metadata": {},
   "outputs": [],
   "source": [
    "import numpy as np\n",
    "import openturns as ot"
   ]
  },
  {
   "cell_type": "code",
   "execution_count": 2,
   "metadata": {},
   "outputs": [
    {
     "ename": "RuntimeError",
     "evalue": "FileNotFoundException : Can NOT open file 'sample_E.csv'. Reason: No such file or directory",
     "output_type": "error",
     "traceback": [
      "\u001b[1;31m---------------------------------------------------------------------------\u001b[0m",
      "\u001b[1;31mRuntimeError\u001b[0m                              Traceback (most recent call last)",
      "\u001b[1;32m<ipython-input-2-ed218b36e7a5>\u001b[0m in \u001b[0;36m<module>\u001b[1;34m()\u001b[0m\n\u001b[1;32m----> 1\u001b[1;33m \u001b[0mdata\u001b[0m \u001b[1;33m=\u001b[0m \u001b[0mot\u001b[0m\u001b[1;33m.\u001b[0m\u001b[0mSample\u001b[0m\u001b[1;33m.\u001b[0m\u001b[0mImportFromCSVFile\u001b[0m\u001b[1;33m(\u001b[0m\u001b[1;34m\"sample_E.csv\"\u001b[0m\u001b[1;33m)\u001b[0m\u001b[1;33m\u001b[0m\u001b[0m\n\u001b[0m\u001b[0;32m      2\u001b[0m \u001b[0mdata\u001b[0m\u001b[1;33m.\u001b[0m\u001b[0msetDescription\u001b[0m\u001b[1;33m(\u001b[0m\u001b[1;33m[\u001b[0m\u001b[1;34m\"Young Modulus\"\u001b[0m\u001b[1;33m]\u001b[0m\u001b[1;33m)\u001b[0m\u001b[1;33m\u001b[0m\u001b[0m\n\u001b[0;32m      3\u001b[0m \u001b[0mn\u001b[0m \u001b[1;33m=\u001b[0m \u001b[0mdata\u001b[0m\u001b[1;33m.\u001b[0m\u001b[0mgetSize\u001b[0m\u001b[1;33m(\u001b[0m\u001b[1;33m)\u001b[0m\u001b[1;33m\u001b[0m\u001b[0m\n\u001b[0;32m      4\u001b[0m \u001b[0mprint\u001b[0m\u001b[1;33m(\u001b[0m\u001b[1;34m\"Sample size=%d\"\u001b[0m \u001b[1;33m%\u001b[0m \u001b[1;33m(\u001b[0m\u001b[0mn\u001b[0m\u001b[1;33m)\u001b[0m\u001b[1;33m)\u001b[0m\u001b[1;33m\u001b[0m\u001b[0m\n",
      "\u001b[1;32m~\\AppData\\Local\\Continuum\\anaconda3-5-3\\lib\\site-packages\\openturns\\typ.py\u001b[0m in \u001b[0;36mImportFromCSVFile\u001b[1;34m(*args)\u001b[0m\n\u001b[0;32m   8549\u001b[0m         \u001b[1;33m>>\u001b[0m\u001b[1;33m>\u001b[0m \u001b[1;32massert\u001b[0m \u001b[0msample\u001b[0m \u001b[1;33m==\u001b[0m \u001b[0mloaded_sample\u001b[0m\u001b[1;33m\u001b[0m\u001b[0m\n\u001b[0;32m   8550\u001b[0m         \"\"\"\n\u001b[1;32m-> 8551\u001b[1;33m         \u001b[1;32mreturn\u001b[0m \u001b[0m_typ\u001b[0m\u001b[1;33m.\u001b[0m\u001b[0mSample_ImportFromCSVFile\u001b[0m\u001b[1;33m(\u001b[0m\u001b[1;33m*\u001b[0m\u001b[0margs\u001b[0m\u001b[1;33m)\u001b[0m\u001b[1;33m\u001b[0m\u001b[0m\n\u001b[0m\u001b[0;32m   8552\u001b[0m \u001b[1;33m\u001b[0m\u001b[0m\n\u001b[0;32m   8553\u001b[0m     \u001b[0mImportFromCSVFile\u001b[0m \u001b[1;33m=\u001b[0m \u001b[0mstaticmethod\u001b[0m\u001b[1;33m(\u001b[0m\u001b[0mImportFromCSVFile\u001b[0m\u001b[1;33m)\u001b[0m\u001b[1;33m\u001b[0m\u001b[0m\n",
      "\u001b[1;31mRuntimeError\u001b[0m: FileNotFoundException : Can NOT open file 'sample_E.csv'. Reason: No such file or directory"
     ]
    }
   ],
   "source": [
    "data = ot.Sample.ImportFromCSVFile(\"sample_E.csv\")\n",
    "data.setDescription([\"Young Modulus\"])\n",
    "n = data.getSize()\n",
    "print(\"Sample size=%d\" % (n))"
   ]
  },
  {
   "cell_type": "code",
   "execution_count": null,
   "metadata": {},
   "outputs": [],
   "source": [
    "data[0:10]"
   ]
  },
  {
   "cell_type": "markdown",
   "metadata": {},
   "source": [
    "## Question 1 : statistiques descriptives\n",
    "\n",
    "- Calculer les principales caractéristiques de l'échantillon: moyenne, écart-type, médiane, minimum, maximum, intervalle inter-quartiles (i.e. à 25% et 75%)"
   ]
  },
  {
   "cell_type": "markdown",
   "metadata": {},
   "source": [
    "## Question 2 : histogramme empirique\n",
    "\n",
    "- Utiliser la classe `VisualTest_DrawHistogram` pour dessiner l'histogramme empirique de l'échantillon."
   ]
  },
  {
   "cell_type": "markdown",
   "metadata": {},
   "source": [
    "## Question 3 : ajuster une loi beta\n",
    "\n",
    "* Utiliser la classe `BetaFactory` pour estimer les paramètres de la loi Beta s'ajustant au données. \n",
    "* Desinner la PDF de cette loi ajustée.\n",
    "* Afficher les paramètres estimés."
   ]
  },
  {
   "cell_type": "markdown",
   "metadata": {},
   "source": [
    "## Question 4 : réaliser le test de Kolmogorov-Smirnov\n",
    "\n",
    "- Utiliser la classe `FittingTest.Kolmogorov` pour réaliser le test de Kolmogorov-Smirnov. \n",
    "- Calculer la p-valeur.\n",
    "- Doit-on rejeter la loi beta ou non ?"
   ]
  },
  {
   "cell_type": "markdown",
   "metadata": {},
   "source": [
    "## Question 5 : QQ-plot\n",
    "\n",
    "- Utiliser la classe `VisualTest_DrawQQplot` pour dessiner le qq-plot. \n",
    "- L'ajustement est-il satisfaisant ?"
   ]
  },
  {
   "cell_type": "markdown",
   "metadata": {},
   "source": [
    "## Question 6 : sélection de modèle par le critère BIC\n",
    "\n",
    "On souhaite déterminer quelle loi s'ajuste le mieux au sens du critère BIC. \n",
    "\n",
    "- Comparer les lois suivantes du point de vue du critère : uniforme, gaussienne, beta, log-normale. Quelle est la loi qui est la meilleure du point de vue du critère BIC ?\n",
    "- La méthode `FittingTest_BestModelBIC` permet de renvoyer la distribution réalisant le meilleur critère BIC dans une liste de distributions candidates. Pour créer cette liste, on peut utiliser la méthode `GetContinuousUniVariateFactories`. Quelle distribution ressort de cette méthode ? Est-elle satisfaisante du point de vue du QQ-Plot ?"
   ]
  },
  {
   "cell_type": "markdown",
   "metadata": {},
   "source": [
    "## Question 7 : histogramme\n",
    "\n",
    "- Utiliser la classe `HistogramFactory` pour créer la distribution de type histogramme qui s'ajuste aux données. \n",
    "- Utiliser le QQ-plot pour valider graphiquement cette distribution. \n",
    "- Quelle est la limite de cette technique ?\n",
    "- L'histogramme est-il une distribution satisfaisante de ce cas particulier ? Dans quel type d'études cette méthode pourrait convenir ?"
   ]
  },
  {
   "cell_type": "markdown",
   "metadata": {},
   "source": [
    "## Question 8 : méthode à noyau\n",
    "\n",
    "- Utiliser la classe `KernelSmoothing` pour utiliser une méthode à noyau pour estimer la distribution. \n",
    "- Utiliser le QQ-Plot pour valider le résultat graphiquement."
   ]
  },
  {
   "cell_type": "markdown",
   "metadata": {},
   "source": [
    "## Question 9 : synthèse\n",
    "\n",
    "On souhaite comparer les trois distributions suivantes :\n",
    "- la distribution Beta \n",
    "- la distribution issue de l'estimation à noyau \n",
    "- l'histogramme empirique\n",
    "\n",
    "Comparer ces distributions du point de vue de la PDF : \n",
    "- quelles différences observez-vous ?\n",
    "- quelle semble être la loi la plus appropriée ?"
   ]
  }
 ],
 "metadata": {
  "css": [
   ""
  ],
  "kernelspec": {
   "display_name": "Python 3",
   "language": "python",
   "name": "python3"
  },
  "language_info": {
   "codemirror_mode": {
    "name": "ipython",
    "version": 3
   },
   "file_extension": ".py",
   "mimetype": "text/x-python",
   "name": "python",
   "nbconvert_exporter": "python",
   "pygments_lexer": "ipython3",
   "version": "3.7.0"
  }
 },
 "nbformat": 4,
 "nbformat_minor": 1
}
