{
 "cells": [
  {
   "cell_type": "markdown",
   "metadata": {},
   "source": [
    "# Analyse de sensibilité non linéaire"
   ]
  },
  {
   "cell_type": "markdown",
   "metadata": {},
   "source": [
    "## Définition intuitive\n",
    "\n",
    "Dans cette section, nous définissons les indices de Sobol' du premier ordre et totaux. \n",
    "\n",
    "Soit $X\\in\\mathbb{R}^p$ où $p$ est la dimension du vecteur d'entrée. Soit $g$ est une fonction de $\\mathbb{R}^p$ vers $\\mathbb{R}$ définie par :\n",
    "$$\n",
    "Y = g(X)\n",
    "$$\n",
    "où $Y\\in\\mathbb{R}$, pour tout $X\\in\\mathbb{R}^p$. \n",
    "\n",
    "On suppose que $X$ est une variable aléatoire de loi connue. On suppose de plus, et c'est une hypothèse très limitative, que les lois marginales de $X$ sont indépendantes.\n",
    "\n",
    "On note $E(Y)$ l'espérance de $Y$ et $V(Y)$ la variance de $Y$. L'objectif de l'analyse de sensibilité globale est de quantifier l'impact de la variabilité de chaque variable d'entrée $X_i$ sur la variabilité de $Y$. En d'autres termes, on cherche à quantifier l'impact de $X_i$ sur $V(Y)$. \n",
    "\n",
    "Pour $i\\in\\{1,...,d\\}$, supposons que $X_i$ est une variable qui a un \\emph{fort impact} sur $Y$. Essayons de donner un sens probabiliste qui permette de quantifier cet impact. Cela implique que, si on fixe $X_i$ à une valeur $x_i\\in\\mathbb{R}$ donnée, alors la variable $Y|X_i=x_i$ a une variabilité moins grande. En d'autres termes \n",
    "$$\n",
    "V(Y|X_i=x_i) \\ll V(Y).\n",
    "$$\n",
    "Par conséquent, la différence \n",
    "$$\n",
    "\\delta_i = V(Y) - V(Y|X_i=x_i)\n",
    "$$\n",
    "est grande. \n",
    "La difficulté est que la différence $\\delta_i$ dépend de la valeur de $x_i$ que nous choisissons. La valeur la plus appropriée est sans doute $x_i=E(X_i)$, mais, puisque $X_i$ est une variable aléatoire, il y a d'autres valeurs possibles. C'est pourquoi on souhaite obtenir la différence moyenne $E(\\delta_i)$ :\n",
    "\n",
    "\\begin{align}\n",
    "E(\\delta_i) &= E\\left[V(Y) - V(Y|X_i)\\right] \\\\\n",
    "&= V(Y) - E[V(Y|X_i)].\n",
    "\\end{align}\n",
    "\n",
    "Le théorème de la variance totale implique :\n",
    "$$\n",
    "V(Y) = E[V(Y|X_i)] + V[E(Y|X_i)]\n",
    "$$\n",
    "pour $i=1,...,p$. \n",
    "On substitue $V(Y)$ dans l'équation précédente, ce qui implique :\n",
    "$$\n",
    "E(\\delta_i) = V[E(Y|X_i)]\n",
    "$$\n",
    "pour $i=1,...,p$. \n",
    "La difficulté est que l'expression précédente est absolue, et non relative à la valeur de $V(Y)$. C'est pourquoi on normalise le terme précédent par $V(Y)$. \n",
    "\n",
    "L'indice du premier ordre de la variable $X_i$ par rapport à $Y$ est :\n",
    "$$\n",
    "S_i = \\frac{V[E(Y|X_i)]}{V(Y)}\n",
    "$$\n",
    "pour $i=1,...,p$. \n",
    "\n",
    "L'analyse précédente montre que, si la variable $X_i$ a un impact important sur la variabilité de $Y$, alors $S_i$ est grand. "
   ]
  }
 ],
 "metadata": {
  "kernelspec": {
   "display_name": "Python 3",
   "language": "python",
   "name": "python3"
  },
  "language_info": {
   "codemirror_mode": {
    "name": "ipython",
    "version": 3
   },
   "file_extension": ".py",
   "mimetype": "text/x-python",
   "name": "python",
   "nbconvert_exporter": "python",
   "pygments_lexer": "ipython3",
   "version": "3.7.0"
  }
 },
 "nbformat": 4,
 "nbformat_minor": 2
}
