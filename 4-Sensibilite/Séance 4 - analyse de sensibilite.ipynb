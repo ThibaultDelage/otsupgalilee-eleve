{
 "cells": [
  {
   "cell_type": "markdown",
   "metadata": {},
   "source": [
    "# Séance 4 - analyse de sensibilité\n",
    "\n",
    "## Vue d'ensemble\n",
    "\n",
    "- Rappels de cours sur l'analyse de sensibilité d'un modèle linéaire : Sensibilité-Cours-lineaire.ipynb\n",
    "- Exercice : Sensibilité-SRC-cantilever-beam.ipynb\n",
    "- Rappels de cours sur l'analyse de sensibilité d'un modèle non-linéaire : Sensibilite-Cours-nonlineaire.ipynb\n",
    "- Exercice : Sensibilité-Sobol-cantilever-beam.ipynb"
   ]
  }
 ],
 "metadata": {
  "kernelspec": {
   "display_name": "Python 3",
   "language": "python",
   "name": "python3"
  },
  "language_info": {
   "codemirror_mode": {
    "name": "ipython",
    "version": 3
   },
   "file_extension": ".py",
   "mimetype": "text/x-python",
   "name": "python",
   "nbconvert_exporter": "python",
   "pygments_lexer": "ipython3",
   "version": "3.7.0"
  }
 },
 "nbformat": 4,
 "nbformat_minor": 2
}
