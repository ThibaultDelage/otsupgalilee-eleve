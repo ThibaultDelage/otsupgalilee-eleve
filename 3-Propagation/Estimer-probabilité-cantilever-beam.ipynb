{
 "cells": [
  {
   "cell_type": "markdown",
   "metadata": {},
   "source": [
    "# Estimer une probabilité de dépassement de seuil - Application au cas de la poutre en flexion\n",
    "\n",
    "## Introduction\n",
    "\n",
    "Soit $X = (X_1,..., X_d)\\in\\mathbb{R}^d$ le vecteur aléatoire d’entrée. On note $f$ la densité de probabilité de la variable $X$. \n",
    "\n",
    "Soit $g$ une fonction de $\\mathbb{R}^d$ vers $\\mathbb{R}$. On souhaite estimer la variable aléatoire :\n",
    "$$\n",
    "Y = g(X).\n",
    "$$\n",
    "\n",
    "Soit $s\\in\\mathbb{R}$ un seuil donné. Nous souhaitons estimer la probabilité :\n",
    "$$\n",
    "P_f = P(Y > s).\n",
    "$$\n",
    "Bien sûr, nous pourrions considérer que cette probabilité peut se calculer comme l'espérance d'une fonction indicatrice. \n",
    "En effet, soit $\\mathbb{1}_{Y>s}$ la fonction indicatrice définie par :\n",
    "\\begin{align}\n",
    "\\mathbb{1}_{Y>s}\n",
    "= \\left\\{\n",
    "\\begin{array}{l}\n",
    "1, \\textrm{ si } Y>s, \\\\\n",
    "0, \\textrm{ sinon}.\n",
    "\\end{array}\n",
    "\\right.\n",
    "\\end{align}\n",
    "\n",
    "Alors, la probabilité $P_f$ est l'espérance de la fonction indicatrice :\n",
    "$$\n",
    "P_f = E\\left(\\mathbb{1}_{Y>s}\\right) = \\int \\mathbb{1}_{Y>s}(x) f(x) dx.\n",
    "$$\n",
    "\n",
    "En fait, une telle formulation pose souvent des difficultés. La plus importante est qu'il peut s'avérer que la probabilité recherchée est faible, ce qui peut nécessiter des méthodes spécifiques.\n",
    "\n",
    "## Estimer une probabilité avec la méthode de Monte-Carlo simple\n",
    "\n",
    "Soit $n$ un entier représentant la taille de l'échantillon. \n",
    "Soient $y_1,...,y_n$ des réalisations indépendantes \n",
    "de la variable $Y$, pour $i=1,2,...,n$. \n",
    "\n",
    "Soit $Z_i$ la variable dont les réalisations sont \n",
    "$$\n",
    "z_i=\n",
    "\\left\\{\n",
    "\\begin{array}{l}\n",
    "1\\textrm{ si } y_i>s\\\\\n",
    "0\\textrm{ sinon.}\n",
    "\\end{array}\n",
    "\\right.\n",
    "$$\n",
    "La variable $Z_i$ est une variable de Bernoulli de paramètre $P_f$. \n",
    "Par conséquent, son espérance est $P_f$ et sa variance est $P_f(1-P_f)$.\n",
    "\n",
    "Soit $b_n$ la variable définie par:\n",
    "$$\n",
    "b_n=z_1+z_2+...+z_n.\n",
    "$$\n",
    "La probabilité de dépassement $P_f$ est estimée par\n",
    "$$\n",
    "\\tilde{P}_f=\\frac{b_n}{n}.\n",
    "$$\n",
    "La variable \n",
    "$$\n",
    "B_n = Z_1+Z_2+\\ldots+Z_n\n",
    "$$ \n",
    "est une variable binomiale de paramètres $P_f$ et $n$. \n",
    "Par conséquent, son espérance est $nP_f$ et sa variance est $nP_f(1-P_f)$. \n",
    "L'espérance de la variable \n",
    "$$\n",
    "\\tilde{P}_f=\\frac{B_n}{n}\n",
    "$$\n",
    "est donc $P_f$ et sa variance est $P_f(1-P_f)/n$. \n",
    "\n",
    "Le théorème limite central implique que la variable aléatoire $\\tilde{P}_f$ converge en distribution vers la loi gaussienne. \n",
    "Plus précisément :\n",
    "$$\n",
    "\\sqrt{n}(\\tilde{P}_f - P_f) \\xrightarrow{d} \\mathcal{N}(0,P_f(1-P_f)).\n",
    "$$\n",
    "Par conséquent,\n",
    "$$\n",
    "\\tilde{P}_f - P_f \\xrightarrow{d} \\mathcal{N}\\left(0,\\frac{P_f(1-P_f)}{n}\\right)\n",
    "$$\n",
    "ce qui implique :\n",
    "$$\n",
    "\\tilde{P}_f \\xrightarrow{d} \\mathcal{N}\\left(P_f,\\frac{P_f(1-P_f)}{n}\\right).\n",
    "$$\n",
    "\n",
    "On pourrait exprimer directement un intervalle de confiance pour \n",
    "cette variable aléatoire. \n",
    "La tradition consiste à l'exprimer en fonction d'une loi normale standard. \n",
    "En effet, le T.C.L. implique :\n",
    "$$\n",
    "\\sqrt{\\frac{n}{P_f(1-P_f)}}\\left(\\tilde{P}_f - P_f\\right) \\xrightarrow{d} \\mathcal{N}(0,1).\n",
    "$$\n",
    "Soit $q_{\\alpha/2}$ le quantile d'ordre $\\alpha/2$ de la loi normale standard :\n",
    "$$\n",
    "q_{\\alpha/2}=\\Phi^{-1}(\\alpha/2),\n",
    "$$\n",
    "où $\\Phi$ est la fonction de répartition de la loi gaussienne \n",
    "de moyenne nulle et d'écart-type unité. \n",
    "Soit l'intervalle \n",
    "$$\n",
    "I_n = \\left[\\tilde{P}_f-\\Delta_n,\\tilde{P}_f+\\Delta_n\\right].\n",
    "$$\n",
    "avec\n",
    "$$\n",
    "\\Delta_n = q_{\\alpha/2}\\sqrt{\\frac{\\tilde{P}_f(1-\\tilde{P}_f)}{n}}.\n",
    "$$\n",
    "Alors $I_n$ est un intervalle de confiance approché à $1-\\alpha$ \n",
    "pour la proportion $P_f$, c'est à dire que\n",
    "$$\n",
    "P(I_n\\ni P_f) \\approx 1-\\alpha.\n",
    "$$\n",
    "L'approximation vient du fait qu'on remplace la variance \n",
    "exacte $P_f(1-P_f)/n$ qui dépend de la valeur \n",
    "inconnue $P_f$ par son estimation $\\tilde{P}_f(1-\\tilde{P}_f)/n$."
   ]
  },
  {
   "cell_type": "markdown",
   "metadata": {},
   "source": [
    "## Déviation  verticale d'une poutre encastrée\n",
    "\n",
    "We consider a cantilever beam defined by its Young’s modulus $E$, its length $L$ and its section modulus $I$. One end is built in a wall and we apply a concentrated bending load $F$ at the other end of the beam, resulting in a vertical deviation $Y$.\n",
    "\n",
    "<img src=\"poutre.png\" width=\"200\">\n",
    "\n",
    "__Inputs__:  $\\left\\{ E, F, L, I \\right\\} $\n",
    "* $E$ : Young modulus (Pa)\n",
    "* $F$ : Loading (N),\n",
    "* $L$ : Length of beam (cm),\n",
    "* $I$ : Moment of inertia (cm^4).\n",
    "\n",
    "|Variable|  Distribution|\n",
    "| ------------- |-------------|\n",
    "|E|  Beta(r = 0.9, t = 3.5, a = $2.5\\times 10^7$, $b = 5\\times 10^7$) |\n",
    "|F| Lognormal($\\mu_F=3 \\times 10^4$, $\\sigma_F=9\\times 10^3$, shift=$15\\times 10^3$)|\n",
    "|L|Uniform(min=250.0, max= 260.0)|\n",
    "|I| Beta(r = 2.5, t = 4.0, a = 310, b = 450)|\n",
    "\n",
    "In the previous table $\\mu_F=E(F)$ and $\\sigma_F=\\sqrt{V(F)}$ are the mean and the standard deviation of $F$.\n",
    "\n",
    "The input variables are supposed to be independent.\n",
    "\n",
    "__Output__:\n",
    "\n",
    "The vertical displacement at free end of the cantilever beam is:\n",
    "$$\n",
    "Y  = \\dfrac{F\\, L^3}{3 \\, E \\, I}\n",
    "$$\n",
    "It is considered that failure occurs when the beam deviation is greater than 30 cm:\n",
    "$$\n",
    "Y \\geq 30 \\textrm{ (cm)}\n",
    "$$\n",
    "With a Monte-Carlo sample size equal to 7 120 000, we get:\n",
    "$$\n",
    "P(Y\\geq 30) = 0.005590.\n",
    "$$\n",
    "The 95% confidence interval is \n",
    "$$\n",
    "P([0.005536,0.005645]\\ni P_f)=0.95.\n",
    "$$"
   ]
  },
  {
   "cell_type": "markdown",
   "metadata": {},
   "source": [
    "# Model definition"
   ]
  },
  {
   "cell_type": "code",
   "execution_count": 40,
   "metadata": {},
   "outputs": [],
   "source": [
    "import openturns as ot\n",
    "import numpy as np"
   ]
  },
  {
   "cell_type": "code",
   "execution_count": 6,
   "metadata": {},
   "outputs": [],
   "source": [
    "dist_E = ot.Beta(0.9, 3.1, 2.8e7, 4.8e7)\n",
    "dist_E.setDescription([\"E\"])\n",
    "F_para = ot.LogNormalMuSigma(3.0e4, 9.0e3, 15.0e3) # in N\n",
    "dist_F = ot.ParametrizedDistribution(F_para)\n",
    "dist_F.setDescription([\"F\"])\n",
    "dist_L = ot.Uniform(250., 260.) # in cm\n",
    "dist_L.setDescription([\"L\"])\n",
    "dist_I = ot.Beta(2.5, 4, 310., 450.) # in cm^4\n",
    "dist_I.setDescription([\"I\"])\n",
    "\n",
    "X = ot.ComposedDistribution([dist_E, dist_F, dist_L, dist_I])"
   ]
  },
  {
   "cell_type": "code",
   "execution_count": 7,
   "metadata": {},
   "outputs": [],
   "source": [
    "g = ot.SymbolicFunction( [\"E\",\"F\",\"L\",\"I\"],[\"F* L^3 /  (3 * E * I)\"])\n",
    "g.setOutputDescription([\"Y (cm)\"])"
   ]
  },
  {
   "cell_type": "markdown",
   "metadata": {},
   "source": [
    "Pour pouvoir exploiter au mieux les simulations, nous équipons la fonction d'un méchanisme d'historique."
   ]
  },
  {
   "cell_type": "code",
   "execution_count": 8,
   "metadata": {},
   "outputs": [],
   "source": [
    "g = ot.MemoizeFunction(g)"
   ]
  },
  {
   "cell_type": "markdown",
   "metadata": {},
   "source": [
    "Enfin, nous définissons le vecteur aléatoire de sortie."
   ]
  },
  {
   "cell_type": "code",
   "execution_count": 9,
   "metadata": {},
   "outputs": [],
   "source": [
    "XRV = ot.RandomVector(X)\n",
    "Y = ot.RandomVector(g, XRV)\n",
    "Y.setDescription(['Y (cm)'])"
   ]
  },
  {
   "cell_type": "markdown",
   "metadata": {},
   "source": [
    "## Par Monte-Carlo simple avec un budget fixé\n",
    "\n",
    "La manière la plus simple de faire une telle étude consiste à fixer le nombre de simulations à l'avance. En d'autres termes, on fixe $n$ et on génère un échantillon de la variable de sortie $Y$ de taille $n$. C'est la méthode \"traditionnelle\"."
   ]
  },
  {
   "cell_type": "code",
   "execution_count": 49,
   "metadata": {},
   "outputs": [],
   "source": [
    "n = 100000"
   ]
  },
  {
   "cell_type": "code",
   "execution_count": 31,
   "metadata": {},
   "outputs": [],
   "source": [
    "Ysample = Y.getSample(n)"
   ]
  },
  {
   "cell_type": "code",
   "execution_count": 32,
   "metadata": {
    "scrolled": false
   },
   "outputs": [
    {
     "data": {
      "image/png": "[encoded data removed]",
      "text/plain": [
       "class=Graph name=sample histogram implementation=class=GraphImplementation name=sample histogram title=sample histogram xTitle=Y (cm) yTitle=frequency axes=ON grid=ON legendposition=topright legendFontSize=1 drawables=[class=Drawable name=Unnamed implementation=class=Curve name=Unnamed derived from class=DrawableImplementation name=Unnamed legend= data=class=Sample name=Unnamed implementation=class=SampleImplementation name=Unnamed size=1148 dimension=2 data=[[4.57913,0],[4.71193,0],[4.71193,0],...,[80.6737,0],[80.6737,0],[80.8065,0]] color=red fillStyle=solid lineStyle=solid pointStyle=none lineWidth=2]"
      ]
     },
     "execution_count": 32,
     "metadata": {},
     "output_type": "execute_result"
    }
   ],
   "source": [
    "graph = ot.VisualTest_DrawHistogram(Ysample)\n",
    "graph.setXTitle(\"Y (cm)\")\n",
    "graph.setLegends([\"\"])\n",
    "graph"
   ]
  },
  {
   "cell_type": "markdown",
   "metadata": {},
   "source": [
    "La probabilité recherchée peut être calculée en évaluant la fonction de répartition complémentaire de l'échantillon."
   ]
  },
  {
   "cell_type": "code",
   "execution_count": 33,
   "metadata": {},
   "outputs": [
    {
     "data": {
      "text/plain": [
       "0.00581"
      ]
     },
     "execution_count": 33,
     "metadata": {},
     "output_type": "execute_result"
    }
   ],
   "source": [
    "pf = Ysample.computeEmpiricalCDF([30.],True)\n",
    "pf"
   ]
  },
  {
   "cell_type": "code",
   "execution_count": 45,
   "metadata": {},
   "outputs": [],
   "source": [
    "alpha = 0.05"
   ]
  },
  {
   "cell_type": "code",
   "execution_count": 46,
   "metadata": {},
   "outputs": [
    {
     "data": {
      "text/plain": [
       "1.959963984540054"
      ]
     },
     "execution_count": 46,
     "metadata": {},
     "output_type": "execute_result"
    }
   ],
   "source": [
    "f = ot.DistFunc_qNormal(alpha/2,True)\n",
    "f"
   ]
  },
  {
   "cell_type": "code",
   "execution_count": 50,
   "metadata": {},
   "outputs": [
    {
     "data": {
      "text/plain": [
       "0.0004710541697101899"
      ]
     },
     "execution_count": 50,
     "metadata": {},
     "output_type": "execute_result"
    }
   ],
   "source": [
    "delta = f * np.sqrt(pf*(1-pf)/n)\n",
    "delta"
   ]
  },
  {
   "cell_type": "code",
   "execution_count": 51,
   "metadata": {},
   "outputs": [
    {
     "name": "stdout",
     "output_type": "stream",
     "text": [
      "0.950000 confidence interval = [0.005339,0.006281]\n"
     ]
    }
   ],
   "source": [
    "print(\"%f confidence interval = [%f,%f]\" % (1-alpha,pf-delta,pf+delta))"
   ]
  },
  {
   "cell_type": "code",
   "execution_count": 52,
   "metadata": {},
   "outputs": [
    {
     "data": {
      "text/html": [
       "<p>Normal(mu = 0.00581, sigma = 0.000240338)</p>"
      ],
      "text/plain": [
       "class=Normal name=Normal dimension=1 mean=class=Point name=Unnamed dimension=1 values=[0.00581] sigma=class=Point name=Unnamed dimension=1 values=[0.000240338] correlationMatrix=class=CorrelationMatrix dimension=1 implementation=class=MatrixImplementation name=Unnamed rows=1 columns=1 values=[1]"
      ]
     },
     "execution_count": 52,
     "metadata": {},
     "output_type": "execute_result"
    }
   ],
   "source": [
    "pf_dist = ot.Normal(pf,np.sqrt(pf*(1-pf)/n))\n",
    "pf_dist"
   ]
  },
  {
   "cell_type": "code",
   "execution_count": 61,
   "metadata": {},
   "outputs": [
    {
     "data": {
      "text/html": [
       "<p>[0.00533895, 0.00628105]</p>"
      ],
      "text/plain": [
       "class=Interval name=Unnamed dimension=1 lower bound=class=Point name=Unnamed dimension=1 values=[0.00533895] upper bound=class=Point name=Unnamed dimension=1 values=[0.00628105] finite lower bound=[1] finite upper bound=[1]"
      ]
     },
     "execution_count": 61,
     "metadata": {},
     "output_type": "execute_result"
    }
   ],
   "source": [
    "bounds = pf_dist.computeBilateralConfidenceInterval(1-alpha)\n",
    "bounds"
   ]
  },
  {
   "cell_type": "code",
   "execution_count": 62,
   "metadata": {},
   "outputs": [
    {
     "data": {
      "image/png": "[encoded data removed]",
      "text/plain": [
       "class=Graph name=X0 CDF implementation=class=GraphImplementation name=X0 CDF title=X0 CDF xTitle=X0 yTitle=CDF axes=ON grid=ON legendposition=topleft legendFontSize=1 drawables=[class=Drawable name=Unnamed implementation=class=Curve name=Unnamed derived from class=DrawableImplementation name=Unnamed legend=X0 CDF data=class=Sample name=Unnamed implementation=class=SampleImplementation name=Unnamed size=129 dimension=2 data=[[0.00491326,9.53e-05],[0.00492727,0.000119925],[0.00494128,0.000150428],[0.00495529,0.000188084],[0.00496931,0.000234413],[0.00498332,0.000291219],[0.00499733,0.000360635],[0.00501134,0.000445172],[0.00502535,0.000547774],[0.00503936,0.000671881],[0.00505338,0.000821491],[0.00506739,0.00100123],[0.0050814,0.00121644],[0.00509541,0.00147323],[0.00510942,0.00177862],[0.00512343,0.00214056],[0.00513744,0.00256806],[0.00515146,0.0030713],[0.00516547,0.00366167],[0.00517948,0.00435193],[0.00519349,0.00515622],[0.0052075,0.00609022],[0.00522151,0.00717115],[0.00523553,0.00841789],[0.00524954,0.009851],[0.00526355,0.0114927],[0.00527756,0.0133671],[0.00529157,0.0154998],[0.00530558,0.0179183],[0.0053196,0.0206514],[0.00533361,0.0237296],[0.00534762,0.0271848],[0.00536163,0.0310501],[0.00537564,0.0353593],[0.00538965,0.0401471],[0.00540366,0.0454488],[0.00541768,0.0512995],[0.00543169,0.0577341],[0.0054457,0.064787],[0.00545971,0.0724913],[0.00547372,0.0808787],[0.00548773,0.0899788],[0.00550175,0.0998185],[0.00551576,0.110422],[0.00552977,0.12181],[0.00554378,0.133998],[0.00555779,0.147],[0.0055718,0.160821],[0.00558581,0.175464],[0.00559983,0.190926],[0.00561384,0.207195],[0.00562785,0.224258],[0.00564186,0.242091],[0.00565587,0.260666],[0.00566988,0.279949],[0.0056839,0.299898],[0.00569791,0.320466],[0.00571192,0.341602],[0.00572593,0.363246],[0.00573994,0.385336],[0.00575395,0.407804],[0.00576797,0.43058],[0.00578198,0.453589],[0.00579599,0.476755],[0.00581,0.5],[0.00582401,0.523245],[0.00583802,0.546411],[0.00585203,0.56942],[0.00586605,0.592196],[0.00588006,0.614664],[0.00589407,0.636754],[0.00590808,0.658398],[0.00592209,0.679534],[0.0059361,0.700102],[0.00595012,0.720051],[0.00596413,0.739334],[0.00597814,0.757909],[0.00599215,0.775742],[0.00600616,0.792805],[0.00602017,0.809074],[0.00603419,0.824536],[0.0060482,0.839179],[0.00606221,0.853],[0.00607622,0.866002],[0.00609023,0.87819],[0.00610424,0.889578],[0.00611825,0.900181],[0.00613227,0.910021],[0.00614628,0.919121],[0.00616029,0.927509],[0.0061743,0.935213],[0.00618831,0.942266],[0.00620232,0.948701],[0.00621634,0.954551],[0.00623035,0.959853],[0.00624436,0.964641],[0.00625837,0.96895],[0.00627238,0.972815],[0.00628639,0.97627],[0.0063004,0.979349],[0.00631442,0.982082],[0.00632843,0.9845],[0.00634244,0.986633],[0.00635645,0.988507],[0.00637046,0.990149],[0.00638447,0.991582],[0.00639849,0.992829],[0.0064125,0.99391],[0.00642651,0.994844],[0.00644052,0.995648],[0.00645453,0.996338],[0.00646854,0.996929],[0.00648256,0.997432],[0.00649657,0.997859],[0.00651058,0.998221],[0.00652459,0.998527],[0.0065386,0.998784],[0.00655261,0.998999],[0.00656662,0.999179],[0.00658064,0.999328],[0.00659465,0.999452],[0.00660866,0.999555],[0.00662267,0.999639],[0.00663668,0.999709],[0.00665069,0.999766],[0.00666471,0.999812],[0.00667872,0.99985],[0.00669273,0.99988],[0.00670674,0.999905]] color=red fillStyle=solid lineStyle=solid pointStyle=none lineWidth=2]"
      ]
     },
     "execution_count": 62,
     "metadata": {},
     "output_type": "execute_result"
    }
   ],
   "source": [
    "pf_dist.drawCDF()"
   ]
  },
  {
   "cell_type": "code",
   "execution_count": 63,
   "metadata": {},
   "outputs": [
    {
     "data": {
      "text/plain": [
       "0.02500000000000004"
      ]
     },
     "execution_count": 63,
     "metadata": {},
     "output_type": "execute_result"
    }
   ],
   "source": [
    "pf_dist.computeCDF(bounds.getLowerBound()[0])"
   ]
  },
  {
   "cell_type": "code",
   "execution_count": 64,
   "metadata": {},
   "outputs": [
    {
     "data": {
      "text/plain": [
       "0.975"
      ]
     },
     "execution_count": 64,
     "metadata": {},
     "output_type": "execute_result"
    }
   ],
   "source": [
    "pf_dist.computeCDF(bounds.getUpperBound()[0])"
   ]
  }
 ],
 "metadata": {
  "kernelspec": {
   "display_name": "Python 3",
   "language": "python",
   "name": "python3"
  },
  "language_info": {
   "codemirror_mode": {
    "name": "ipython",
    "version": 3
   },
   "file_extension": ".py",
   "mimetype": "text/x-python",
   "name": "python",
   "nbconvert_exporter": "python",
   "pygments_lexer": "ipython3",
   "version": "3.7.0"
  }
 },
 "nbformat": 4,
 "nbformat_minor": 2
}
