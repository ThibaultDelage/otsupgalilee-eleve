{
 "cells": [
  {
   "cell_type": "markdown",
   "metadata": {},
   "source": [
    "# Estimer une probabilité de dépassement de seuil - Application au cas de la poutre en flexion\n",
    "\n",
    "## Introduction\n",
    "\n",
    "Soit $X = (X_1,..., X_d)\\in\\mathbb{R}^d$ le vecteur aléatoire d’entrée. On note $f$ la densité de probabilité de la variable $X$. \n",
    "\n",
    "Soit $g$ une fonction de $\\mathbb{R}^d$ vers $\\mathbb{R}$. On souhaite estimer la variable aléatoire :\n",
    "$$\n",
    "Y = g(X).\n",
    "$$\n",
    "\n",
    "Soit $s\\in\\mathbb{R}$ un seuil donné. Nous souhaitons estimer la probabilité :\n",
    "$$\n",
    "p_f = P(Y > s).\n",
    "$$\n",
    "Bien sûr, nous pourrions considérer que cette probabilité peut se calculer comme l'espérance d'une fonction indicatrice. \n",
    "En effet, soit $\\mathbb{1}_{Y>s}$ la fonction indicatrice définie par :\n",
    "\\begin{align}\n",
    "\\mathbb{1}_{Y>s}\n",
    "= \\left\\{\n",
    "\\begin{array}{l}\n",
    "1, \\textrm{ si } Y>s, \\\\\n",
    "0, \\textrm{ sinon}.\n",
    "\\end{array}\n",
    "\\right.\n",
    "\\end{align}\n",
    "\n",
    "Alors, la probabilité $p_f$ est l'espérance de la fonction indicatrice :\n",
    "$$\n",
    "p_f = E\\left(\\mathbb{1}_{Y>s}\\right) = \\int \\mathbb{1}_{Y>s}(x) f(x) dx.\n",
    "$$\n",
    "\n",
    "En fait, une telle formulation pose souvent des difficultés. La plus importante est qu'il peut s'avérer que la probabilité recherchée est faible, ce qui peut nécessiter des méthodes spécifiques.\n",
    "\n",
    "## Estimer une probabilité avec la méthode de Monte-Carlo simple\n",
    "\n",
    "Soit $n$ un entier représentant la taille de l'échantillon. \n",
    "Soient $y_1,...,y_n$ des réalisations indépendantes \n",
    "de la variable $Y$, pour $i=1,2,...,n$. \n",
    "\n",
    "Soit $Z_i$ la variable dont les réalisations sont \n",
    "$$\n",
    "z_i=\n",
    "\\left\\{\n",
    "\\begin{array}{l}\n",
    "1\\textrm{ si } y_i>s\\\\\n",
    "0\\textrm{ sinon.}\n",
    "\\end{array}\n",
    "\\right.\n",
    "$$\n",
    "La variable $Z_i$ est une variable de Bernoulli de paramètre $p_f$. \n",
    "Par conséquent, son espérance est $p_f$ et sa variance est $p_f(1-p_f)$.\n",
    "\n",
    "Soit $b_n$ la variable définie par:\n",
    "$$\n",
    "b_n=z_1+z_2+...+z_n.\n",
    "$$\n",
    "La probabilité de dépassement $p_f$ est estimée par\n",
    "$$\n",
    "\\tilde{p}_f=\\frac{b_n}{n}.\n",
    "$$\n",
    "La variable \n",
    "$$\n",
    "B_n = Z_1+Z_2+\\ldots+Z_n\n",
    "$$ \n",
    "est une variable binomiale de paramètres $p_f$ et $n$. \n",
    "Par conséquent, son espérance est $np_f$ et sa variance est $np_f(1-p_f)$. \n",
    "L'espérance de la variable \n",
    "$$\n",
    "\\tilde{p}_f=\\frac{B_n}{n}\n",
    "$$\n",
    "est donc $p_f$ et sa variance est $p_f(1-p_f)/n$. \n",
    "\n",
    "Le théorème limite central implique que la variable aléatoire $\\tilde{p}_f$ converge en distribution vers la loi gaussienne. \n",
    "Plus précisément :\n",
    "$$\n",
    "\\sqrt{n}(\\tilde{p}_f - p_f) \\xrightarrow{d} \\mathcal{N}(0,p_f(1-p_f)).\n",
    "$$\n",
    "Par conséquent,\n",
    "$$\n",
    "\\tilde{p}_f - p_f \\xrightarrow{d} \\mathcal{N}\\left(0,\\frac{p_f(1-p_f)}{n}\\right)\n",
    "$$\n",
    "ce qui implique :\n",
    "$$\n",
    "\\tilde{p}_f \\xrightarrow{d} \\mathcal{N}\\left(p_f,\\frac{p_f(1-p_f)}{n}\\right).\n",
    "$$\n",
    "Soit $\\sigma_{p_f}^2$ la variance de l'estimateur de la probabilité de dépassement :\n",
    "$$\n",
    "\\sigma_{p_f} = \\sqrt{\\frac{p_f(1-p_f)}{n}}.\n",
    "$$\n",
    "Par conséquent :\n",
    "$$\n",
    "\\tilde{p}_f \\xrightarrow{d} \\mathcal{N}\\left(p_f,\\sigma_{p_f}^2\\right).\n",
    "$$\n",
    "\n",
    "On pourrait exprimer directement un intervalle de confiance pour \n",
    "cette variable aléatoire. \n",
    "La tradition consiste à l'exprimer en fonction d'une loi normale standard. \n",
    "En effet, le T.C.L. implique :\n",
    "$$\n",
    "\\frac{\\tilde{p}_f - p_f}{\\sigma_{p_f}} \\xrightarrow{d} \\mathcal{N}(0,1).\n",
    "$$\n",
    "Soit $\\alpha\\in[0,1/5]$ un niveau de confiance. \n",
    "Soit $q$ le quantile d'ordre $1-\\alpha/2$ de la loi normale standard :\n",
    "$$\n",
    "q=\\Phi^{-1}(1-\\alpha/2),\n",
    "$$\n",
    "où $\\Phi$ est la fonction de répartition de la loi gaussienne \n",
    "de moyenne nulle et d'écart-type unité. \n",
    "Par exemple, si $\\alpha=0.05$, alors $\\alpha/2=0.025$ ce qui implique $q=1.960$. \n",
    "Puisque la distribution de la variable $(\\tilde{p}_f - p_f)/\\sigma_{p_f}$ converge vers la loi normale standard, cela implique \n",
    "$$\n",
    "P\\left(\\frac{\\tilde{p}_f - p_f}{\\sigma_{p_f}} \\in [-q,q]\\right) \\rightarrow 1-\\alpha.\n",
    "$$\n",
    "Par conséquent, \n",
    "$$\n",
    "P\\left(\\tilde{p}_f \\in \\left[p_f-q \\sigma_{p_f} ,p_f+q \\sigma_{p_f} \\right]\\right) \\rightarrow 1-\\alpha.\n",
    "$$\n",
    "Le problème de l'intervalle de confiance précédent est que la probabilité $p_f$ est inconnue, \n",
    "de telle sorte que l'écart-type $\\sigma_{p_f}$ dans l'expression précédente \n",
    "ne peut être calculé directement. \n",
    "Pour obtenir un intervalle de confiance approché, on substitue $p_f$ par $\\tilde{p}_f$. \n",
    "Soit $\\tilde{\\sigma}_{p_f}^2$ la variance approchée de l'estimateur de la probabilité de dépassement :\n",
    "$$\n",
    "\\tilde{\\sigma}_{p_f} = \\sqrt{\\frac{\\tilde{p}_f(1-\\tilde{p}_f)}{n}}.\n",
    "$$\n",
    "Cela implique :\n",
    "$$\n",
    "P\\left(\\tilde{p}_f \\in \\left[p_f- q \\tilde{\\sigma}_{p_f},p_f+q \\tilde{\\sigma}_{p_f}\\right]\\right) \\xrightarrow{\\tilde{\\,}} 1-\\alpha.\n",
    "$$"
   ]
  },
  {
   "cell_type": "markdown",
   "metadata": {},
   "source": [
    "## Déviation  verticale d'une poutre encastrée\n",
    "\n",
    "We consider a cantilever beam defined by its Young’s modulus $E$, its length $L$ and its section modulus $I$. One end is built in a wall and we apply a concentrated bending load $F$ at the other end of the beam, resulting in a vertical deviation $Y$.\n",
    "\n",
    "<img src=\"poutre.png\" width=\"200\">\n",
    "\n",
    "__Inputs__:  $\\left\\{ E, F, L, I \\right\\} $\n",
    "* $E$ : Young modulus (Pa)\n",
    "* $F$ : Loading (N),\n",
    "* $L$ : Length of beam (cm),\n",
    "* $I$ : Moment of inertia (cm^4).\n",
    "\n",
    "|Variable|  Distribution|\n",
    "| ------------- |-------------|\n",
    "|E|  Beta(r = 0.9, t = 3.5, a = $2.5\\times 10^7$, $b = 5\\times 10^7$) |\n",
    "|F| Lognormal($\\mu_F=3 \\times 10^4$, $\\sigma_F=9\\times 10^3$, shift=$15\\times 10^3$)|\n",
    "|L|Uniform(min=250.0, max= 260.0)|\n",
    "|I| Beta(r = 2.5, t = 4.0, a = 310, b = 450)|\n",
    "\n",
    "In the previous table $\\mu_F=E(F)$ and $\\sigma_F=\\sqrt{V(F)}$ are the mean and the standard deviation of $F$.\n",
    "\n",
    "The input variables are supposed to be independent.\n",
    "\n",
    "__Output__:\n",
    "\n",
    "The vertical displacement at free end of the cantilever beam is:\n",
    "$$\n",
    "Y  = \\dfrac{F\\, L^3}{3 \\, E \\, I}\n",
    "$$\n",
    "It is considered that failure occurs when the beam deviation is greater than 30 cm:\n",
    "$$\n",
    "Y \\geq 30 \\textrm{ (cm)}\n",
    "$$\n",
    "With a Monte-Carlo sample size equal to 7 120 000, we get:\n",
    "$$\n",
    "P(Y\\geq 30) = 0.005590.\n",
    "$$\n",
    "The 95% confidence interval is \n",
    "$$\n",
    "P([0.005536,0.005645]\\ni P_f)=0.95.\n",
    "$$"
   ]
  },
  {
   "cell_type": "markdown",
   "metadata": {},
   "source": [
    "# Model definition"
   ]
  },
  {
   "cell_type": "code",
   "execution_count": 1,
   "metadata": {},
   "outputs": [],
   "source": [
    "import openturns as ot\n",
    "import numpy as np"
   ]
  },
  {
   "cell_type": "code",
   "execution_count": 2,
   "metadata": {},
   "outputs": [],
   "source": [
    "dist_E = ot.Beta(0.9, 3.1, 2.8e7, 4.8e7)\n",
    "dist_E.setDescription([\"E\"])\n",
    "F_para = ot.LogNormalMuSigma(3.0e4, 9.0e3, 15.0e3) # in N\n",
    "dist_F = ot.ParametrizedDistribution(F_para)\n",
    "dist_F.setDescription([\"F\"])\n",
    "dist_L = ot.Uniform(250., 260.) # in cm\n",
    "dist_L.setDescription([\"L\"])\n",
    "dist_I = ot.Beta(2.5, 4, 310., 450.) # in cm^4\n",
    "dist_I.setDescription([\"I\"])\n",
    "\n",
    "X = ot.ComposedDistribution([dist_E, dist_F, dist_L, dist_I])"
   ]
  },
  {
   "cell_type": "code",
   "execution_count": 3,
   "metadata": {},
   "outputs": [],
   "source": [
    "g = ot.SymbolicFunction( [\"E\",\"F\",\"L\",\"I\"],[\"F* L^3 /  (3 * E * I)\"])\n",
    "g.setOutputDescription([\"Y (cm)\"])"
   ]
  },
  {
   "cell_type": "markdown",
   "metadata": {},
   "source": [
    "Pour pouvoir exploiter au mieux les simulations, nous équipons la fonction d'un méchanisme d'historique."
   ]
  },
  {
   "cell_type": "code",
   "execution_count": 4,
   "metadata": {},
   "outputs": [],
   "source": [
    "g = ot.MemoizeFunction(g)"
   ]
  },
  {
   "cell_type": "markdown",
   "metadata": {},
   "source": [
    "Enfin, nous définissons le vecteur aléatoire de sortie."
   ]
  },
  {
   "cell_type": "code",
   "execution_count": 5,
   "metadata": {},
   "outputs": [],
   "source": [
    "XRV = ot.RandomVector(X)\n",
    "Y = ot.RandomVector(g, XRV)\n",
    "Y.setDescription(['Y (cm)'])"
   ]
  },
  {
   "cell_type": "markdown",
   "metadata": {},
   "source": [
    "## Par Monte-Carlo simple avec un budget fixé\n",
    "\n",
    "La manière la plus simple de faire une telle étude consiste à fixer le nombre de simulations à l'avance. En d'autres termes, on fixe $n$ et on génère un échantillon de la variable de sortie $Y$ de taille $n$. C'est la méthode \"traditionnelle\"."
   ]
  },
  {
   "cell_type": "code",
   "execution_count": 6,
   "metadata": {},
   "outputs": [],
   "source": [
    "n = 100000"
   ]
  },
  {
   "cell_type": "code",
   "execution_count": 7,
   "metadata": {},
   "outputs": [],
   "source": [
    "Ysample = Y.getSample(n)"
   ]
  },
  {
   "cell_type": "code",
   "execution_count": 8,
   "metadata": {
    "scrolled": false
   },
   "outputs": [
    {
     "data": {
      "image/png": "[encoded data removed]",
      "text/plain": [
       "class=Graph name=sample histogram implementation=class=GraphImplementation name=sample histogram title=sample histogram xTitle=Y (cm) yTitle=frequency axes=ON grid=ON legendposition=topright legendFontSize=1 drawables=[class=Drawable name=Unnamed implementation=class=Curve name=Unnamed derived from class=DrawableImplementation name=Unnamed legend= data=class=Sample name=Unnamed implementation=class=SampleImplementation name=Unnamed size=1328 dimension=2 data=[[4.68633,0],[4.81883,0],[4.81883,0],...,[92.5311,0],[92.5311,0],[92.6636,0]] color=red fillStyle=solid lineStyle=solid pointStyle=none lineWidth=2]"
      ]
     },
     "execution_count": 8,
     "metadata": {},
     "output_type": "execute_result"
    }
   ],
   "source": [
    "graph = ot.VisualTest_DrawHistogram(Ysample)\n",
    "graph.setXTitle(\"Y (cm)\")\n",
    "graph.setLegends([\"\"])\n",
    "graph"
   ]
  },
  {
   "cell_type": "markdown",
   "metadata": {},
   "source": [
    "La probabilité recherchée peut être calculée en évaluant la fonction de répartition complémentaire de l'échantillon."
   ]
  },
  {
   "cell_type": "code",
   "execution_count": 9,
   "metadata": {},
   "outputs": [
    {
     "data": {
      "text/plain": [
       "0.00558"
      ]
     },
     "execution_count": 9,
     "metadata": {},
     "output_type": "execute_result"
    }
   ],
   "source": [
    "pf = Ysample.computeEmpiricalCDF([30.],True)\n",
    "pf"
   ]
  },
  {
   "cell_type": "code",
   "execution_count": 10,
   "metadata": {},
   "outputs": [],
   "source": [
    "alpha = 0.05"
   ]
  },
  {
   "cell_type": "code",
   "execution_count": 11,
   "metadata": {},
   "outputs": [
    {
     "data": {
      "text/plain": [
       "0.00023556025980627548"
      ]
     },
     "execution_count": 11,
     "metadata": {},
     "output_type": "execute_result"
    }
   ],
   "source": [
    "sigmapf = np.sqrt(pf*(1-pf)/n)\n",
    "sigmapf"
   ]
  },
  {
   "cell_type": "code",
   "execution_count": 12,
   "metadata": {},
   "outputs": [
    {
     "data": {
      "text/html": [
       "<p>Normal(mu = 0.00558, sigma = 0.00023556)</p>"
      ],
      "text/plain": [
       "class=Normal name=Normal dimension=1 mean=class=Point name=Unnamed dimension=1 values=[0.00558] sigma=class=Point name=Unnamed dimension=1 values=[0.00023556] correlationMatrix=class=CorrelationMatrix dimension=1 implementation=class=MatrixImplementation name=Unnamed rows=1 columns=1 values=[1]"
      ]
     },
     "execution_count": 12,
     "metadata": {},
     "output_type": "execute_result"
    }
   ],
   "source": [
    "pf_dist = ot.Normal(pf,sigmapf)\n",
    "pf_dist"
   ]
  },
  {
   "cell_type": "code",
   "execution_count": 13,
   "metadata": {},
   "outputs": [
    {
     "name": "stdout",
     "output_type": "stream",
     "text": [
      "95.00% confidence interval = [0.005118,0.006042]\n"
     ]
    }
   ],
   "source": [
    "bounds = pf_dist.computeBilateralConfidenceInterval(1-alpha)\n",
    "lb = bounds.getLowerBound()[0]\n",
    "up = bounds.getUpperBound()[0]\n",
    "print(\"%.2f%% confidence interval = [%f,%f]\" % ((1-alpha)*100,lb,up))"
   ]
  },
  {
   "cell_type": "code",
   "execution_count": 14,
   "metadata": {},
   "outputs": [
    {
     "data": {
      "image/png": "[encoded data removed]",
      "text/plain": [
       "class=Graph name=X0 PDF implementation=class=GraphImplementation name=X0 PDF title=Pf estimate xTitle=Pf estimate yTitle=PDF axes=ON grid=ON legendposition=topright legendFontSize=1 drawables=[class=Drawable name=Unnamed implementation=class=Curve name=Unnamed derived from class=DrawableImplementation name=Unnamed legend= data=class=Sample name=Unnamed implementation=class=SampleImplementation name=Unnamed size=129 dimension=2 data=[[0.00470109,1.60613],[0.00471482,1.99302],[0.00472855,2.46472],[0.00474229,3.03771],[0.00475602,3.73121],[0.00476975,4.56749],[0.00478349,5.57222],[0.00479722,6.77491],[0.00481095,8.20923],[0.00482468,9.91346],[0.00483842,11.9309],[0.00485215,14.3101],[0.00486588,17.1056],[0.00487962,20.3777],[0.00489335,24.1935],[0.00490708,28.6263],[0.00492082,33.7563],[0.00493455,39.6706],[0.00494828,46.463],[0.00496201,54.2337],[0.00497575,63.0892],[0.00498948,73.1417],[0.00500321,84.5082],[0.00501695,97.3097],[0.00503068,111.67],[0.00504441,127.715],[0.00505815,145.57],[0.00507188,165.358],[0.00508561,187.199],[0.00509934,211.205],[0.00511308,237.481],[0.00512681,266.12],[0.00514054,297.202],[0.00515428,330.787],[0.00516801,366.918],[0.00518174,405.614],[0.00519548,446.87],[0.00520921,490.653],[0.00522294,536.896],[0.00523667,585.505],[0.00525041,636.348],[0.00526414,689.26],[0.00527787,744.037],[0.00529161,800.444],[0.00530534,858.204],[0.00531907,917.01],[0.00533281,976.522],[0.00534654,1036.37],[0.00536027,1096.15],[0.005374,1155.44],[0.00538774,1213.81],[0.00540147,1270.8],[0.0054152,1325.96],[0.00542894,1378.81],[0.00544267,1428.91],[0.0054564,1475.8],[0.00547014,1519.05],[0.00548387,1558.27],[0.0054976,1593.08],[0.00551133,1623.14],[0.00552507,1648.16],[0.0055388,1667.88],[0.00555253,1682.12],[0.00556627,1690.71],[0.00558,1693.59],[0.00559373,1690.71],[0.00560747,1682.12],[0.0056212,1667.88],[0.00563493,1648.16],[0.00564867,1623.14],[0.0056624,1593.08],[0.00567613,1558.27],[0.00568986,1519.05],[0.0057036,1475.8],[0.00571733,1428.91],[0.00573106,1378.81],[0.0057448,1325.96],[0.00575853,1270.8],[0.00577226,1213.81],[0.005786,1155.44],[0.00579973,1096.15],[0.00581346,1036.37],[0.00582719,976.522],[0.00584093,917.01],[0.00585466,858.204],[0.00586839,800.444],[0.00588213,744.037],[0.00589586,689.26],[0.00590959,636.348],[0.00592333,585.505],[0.00593706,536.896],[0.00595079,490.653],[0.00596452,446.87],[0.00597826,405.614],[0.00599199,366.918],[0.00600572,330.787],[0.00601946,297.202],[0.00603319,266.12],[0.00604692,237.481],[0.00606066,211.205],[0.00607439,187.199],[0.00608812,165.358],[0.00610185,145.57],[0.00611559,127.715],[0.00612932,111.67],[0.00614305,97.3097],[0.00615679,84.5082],[0.00617052,73.1417],[0.00618425,63.0892],[0.00619799,54.2337],[0.00621172,46.463],[0.00622545,39.6706],[0.00623918,33.7563],[0.00625292,28.6263],[0.00626665,24.1935],[0.00628038,20.3777],[0.00629412,17.1056],[0.00630785,14.3101],[0.00632158,11.9309],[0.00633532,9.91346],[0.00634905,8.20923],[0.00636278,6.77491],[0.00637651,5.57222],[0.00639025,4.56749],[0.00640398,3.73121],[0.00641771,3.03771],[0.00643145,2.46472],[0.00644518,1.99302],[0.00645891,1.60613]] color=red fillStyle=solid lineStyle=solid pointStyle=none lineWidth=2]"
      ]
     },
     "execution_count": 14,
     "metadata": {},
     "output_type": "execute_result"
    }
   ],
   "source": [
    "graph = pf_dist.drawPDF()\n",
    "graph.setXTitle(\"Pf estimate\")\n",
    "graph.setTitle(\"Pf estimate\")\n",
    "graph.setLegends([\"\"])\n",
    "graph"
   ]
  },
  {
   "cell_type": "markdown",
   "metadata": {},
   "source": [
    "## Par Monte-Carlo avec un algorithme itératif\n",
    "\n",
    "La classe `ProbabilitySimulationAlgorithm` permet de calculer une probabilité avec une précision fixée par l'utilisateur en utilisant la taille d'échantillon $n$ la plus petite possible."
   ]
  },
  {
   "cell_type": "code",
   "execution_count": 15,
   "metadata": {},
   "outputs": [],
   "source": [
    "myEvent = ot.Event(Y, ot.Greater(), 30.0)"
   ]
  },
  {
   "cell_type": "code",
   "execution_count": 16,
   "metadata": {},
   "outputs": [],
   "source": [
    "experiment = ot.MonteCarloExperiment()\n",
    "myAlgo = ot.ProbabilitySimulationAlgorithm(myEvent, experiment)\n",
    "myAlgo.setMaximumOuterSampling(10000)\n",
    "myAlgo.setBlockSize(1000)\n",
    "myAlgo.setMaximumCoefficientOfVariation(0.01)"
   ]
  },
  {
   "cell_type": "code",
   "execution_count": 17,
   "metadata": {},
   "outputs": [],
   "source": [
    "myAlgo.run()"
   ]
  },
  {
   "cell_type": "code",
   "execution_count": 18,
   "metadata": {},
   "outputs": [],
   "source": [
    "result = myAlgo.getResult()"
   ]
  },
  {
   "cell_type": "code",
   "execution_count": 19,
   "metadata": {},
   "outputs": [
    {
     "data": {
      "text/plain": [
       "1766"
      ]
     },
     "execution_count": 19,
     "metadata": {},
     "output_type": "execute_result"
    }
   ],
   "source": [
    "outersampling = result.getOuterSampling()\n",
    "outersampling"
   ]
  },
  {
   "cell_type": "code",
   "execution_count": 20,
   "metadata": {},
   "outputs": [
    {
     "data": {
      "text/plain": [
       "0.005640430351075826"
      ]
     },
     "execution_count": 20,
     "metadata": {},
     "output_type": "execute_result"
    }
   ],
   "source": [
    "pf = result.getProbabilityEstimate()\n",
    "pf"
   ]
  },
  {
   "cell_type": "code",
   "execution_count": 21,
   "metadata": {},
   "outputs": [],
   "source": [
    "alpha = 0.05"
   ]
  },
  {
   "cell_type": "code",
   "execution_count": 22,
   "metadata": {},
   "outputs": [
    {
     "name": "stdout",
     "output_type": "stream",
     "text": [
      "95.00% confidence interval = [0.005530,0.005751]\n"
     ]
    }
   ],
   "source": [
    "pflen = result.getConfidenceLength(1-alpha)\n",
    "print(\"%.2f%% confidence interval = [%f,%f]\" % ((1-alpha)*100,pf-pflen/2,pf+pflen/2))"
   ]
  },
  {
   "cell_type": "markdown",
   "metadata": {},
   "source": [
    "## Exercice 1 : probabilité en fonction du seuil\n",
    "\n",
    "L'objectif de cet exercice est d'observer l'évolution de la probabilité lorsque le seuil augmente. \n",
    "- Créer la variable `Ysample` contenant un échantillon de $Y$ de taille 100000. \n",
    "- Créer la variable `thresholdarray` contenant 10 valeurs de $s$ entre 20 et 50. \n",
    "- Pour chaque valeur de seuil $s$, calculer \n",
    "  - la probabilité de dépassement de seuil,\n",
    "  - la borne inférieure de l'intervalle de confiance,\n",
    "  - la borne supérieure de l'intervalle de confiance.\n",
    "- Créer un graphique réprésentant en abscisse le seuil $s$, et en ordonnée la probabilité de dépassement de seuil et ses bornes inférieures et supérieures.\n",
    "  - Utiliser la méthode `setLogScale` pour dessiner l'axe des ordonnées en échelle logarithmique.\n",
    "  - Qu'observez-vous ? Expliquer-le sur le plan physique et sur le plan probabiliste.\n",
    "- On s'intéresse au coefficient de variation :\n",
    "$$\n",
    "CV = \\frac{\\sigma_{p_f}}{p_f}\n",
    "$$\n",
    "si $p_f>0$ et son approximation :\n",
    "$$\n",
    "\\widetilde{CV} = \\frac{\\tilde{\\sigma}_{p_f}}{\\tilde{p_f}}\n",
    "$$\n",
    "si $\\tilde{p_f}>0$. \n",
    "Le coefficient de variation représente la précision relative d'estimation de la probabilité $p_f$. \n",
    "  - Pour chaque valeur de seuil $s$, calculer le coefficient de variation approché. Qu'observez-vous ?  \n",
    "  - Expliquer cela par un calcul théorique."
   ]
  }
 ],
 "metadata": {
  "kernelspec": {
   "display_name": "Python 3",
   "language": "python",
   "name": "python3"
  },
  "language_info": {
   "codemirror_mode": {
    "name": "ipython",
    "version": 3
   },
   "file_extension": ".py",
   "mimetype": "text/x-python",
   "name": "python",
   "nbconvert_exporter": "python",
   "pygments_lexer": "ipython3",
   "version": "3.7.0"
  }
 },
 "nbformat": 4,
 "nbformat_minor": 2
}
