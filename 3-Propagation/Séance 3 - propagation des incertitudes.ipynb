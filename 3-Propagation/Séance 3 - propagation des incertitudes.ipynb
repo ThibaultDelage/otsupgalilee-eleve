{
 "cells": [
  {
   "cell_type": "markdown",
   "metadata": {},
   "source": [
    "# Séance 3 - propagation des incertitudes\n",
    "\n",
    "## Vue d'ensemble\n",
    "\n",
    "- Rappels de cours -  Estimer la tendance centrale : Estimer-tendance-centrale.ipynb\n",
    "- Exercice - Estimer la tendance centrale dans le cas de la poutre en flexion : Tendance-centrale-cantilever-beam.ipynb.\n",
    "- Exercice - Estimer une probabilité de dépassement de seuil dans le cas de la poutre en flexion : Estimer-probabilité-cantilever-beam.ipynb."
   ]
  }
 ],
 "metadata": {
  "kernelspec": {
   "display_name": "Python 3",
   "language": "python",
   "name": "python3"
  },
  "language_info": {
   "codemirror_mode": {
    "name": "ipython",
    "version": 3
   },
   "file_extension": ".py",
   "mimetype": "text/x-python",
   "name": "python",
   "nbconvert_exporter": "python",
   "pygments_lexer": "ipython3",
   "version": "3.7.0"
  }
 },
 "nbformat": 4,
 "nbformat_minor": 2
}
