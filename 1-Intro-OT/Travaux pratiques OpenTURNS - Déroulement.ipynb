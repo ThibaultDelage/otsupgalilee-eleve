{
 "cells": [
  {
   "cell_type": "markdown",
   "metadata": {},
   "source": [
    "# Travaux pratiques OpenTURNS - Ecole Sup-Galilée (Université Paris XIII)\n",
    "\n",
    "<img src=\"logo-sup-galilee.jpg\" style=\"height:200px\"> \n",
    "\n",
    "<img src=\"USPC-PARIS13-1.png\" style=\"height:100px\"> \n",
    "\n",
    "<img src=\"logo_OT.png\" style=\"height:200px\">\n",
    "\n",
    "\n",
    "## Résumé\n",
    "\n",
    "Le but de ce document est de présenter le déroulement des séances de travaux pratiques OpenTURNS à l'école d'ingénieurs Sup-Galilée.\n",
    "\n",
    "## Objectifs\n",
    "\n",
    "* prise en main du logiciel\n",
    "* travail, éventuellement en groupe, sur un petit projet.\n",
    "* huit séances de 3h de début février à fin mars\n",
    "\n",
    "## Vue d'ensemble\n",
    "\n",
    "* Séance 1 : introduction au Python, à OpenTURNS - méthodologie ABC et étape A\n",
    "* Séance 2 : quantification des incertitudes - étape B\n",
    "* Séance 3 : propagation des incertitudes - étape C\n",
    "* Séance 4 : créer des métamodèles de chaos, de krigeage\n",
    "* Séance 5 : analyse de sensibilité globale - étape C'\n",
    "* Séance 6 : TODO\n",
    "* Séance 7 : TODO\n",
    "* Séance 8 : TODO\n",
    "\n",
    "## Calendrier\n",
    "\n",
    "* Séance 1 : Mercredi 20 février \n",
    "* Séance 2 : Mercredi 27 février\n",
    "* Séance 3 : Vendredi 1er mars\n",
    "* Séance 4 : Mercredi 13 mars\n",
    "* Séance 5 : Vendredi 15 mars\n",
    "* Séance 6 : Mercredi 20 mars\n",
    "* Séance 7 : Vendredi 22 mars\n",
    "* Séance 8 : Mercredi 27 mars\n"
   ]
  }
 ],
 "metadata": {
  "kernelspec": {
   "display_name": "Python 3",
   "language": "python",
   "name": "python3"
  },
  "language_info": {
   "codemirror_mode": {
    "name": "ipython",
    "version": 3
   },
   "file_extension": ".py",
   "mimetype": "text/x-python",
   "name": "python",
   "nbconvert_exporter": "python",
   "pygments_lexer": "ipython3",
   "version": "3.7.0"
  }
 },
 "nbformat": 4,
 "nbformat_minor": 2
}
