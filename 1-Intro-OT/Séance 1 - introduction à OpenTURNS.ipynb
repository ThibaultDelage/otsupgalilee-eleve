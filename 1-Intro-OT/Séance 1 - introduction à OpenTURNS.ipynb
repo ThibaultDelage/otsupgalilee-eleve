{
 "cells": [
  {
   "cell_type": "markdown",
   "metadata": {},
   "source": [
    "# Séance 1 : introduction à OpenTURNS\n",
    "\n",
    "## Vue d'ensemble\n",
    "\n",
    "Cours : introduction au Python, à OpenTURNS, à la méthodologie\n",
    "* Les objets Point, Sample\n",
    "* Lois univariées, multivariées\n",
    "* Fonctions Python, symbolique\n",
    "* La classe RandomVector\n",
    "* Méthodologie ABC et étape A\n",
    "\n",
    "Exercices à la maison"
   ]
  }
 ],
 "metadata": {
  "kernelspec": {
   "display_name": "Python 3",
   "language": "python",
   "name": "python3"
  },
  "language_info": {
   "codemirror_mode": {
    "name": "ipython",
    "version": 3
   },
   "file_extension": ".py",
   "mimetype": "text/x-python",
   "name": "python",
   "nbconvert_exporter": "python",
   "pygments_lexer": "ipython3",
   "version": "3.7.0"
  }
 },
 "nbformat": 4,
 "nbformat_minor": 2
}
