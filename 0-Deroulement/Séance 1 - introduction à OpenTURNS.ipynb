{
 "cells": [
  {
   "cell_type": "markdown",
   "metadata": {},
   "source": [
    "# Séance 1 : introduction à OpenTURNS\n",
    "\n",
    "## Vue d'ensemble\n",
    "\n",
    "Cours : introduction au Python, à OpenTURNS, à la méthodologie\n",
    "* Méthodologie ABC\n",
    "* Les objets Point, Sample\n",
    "* Lois univariées, multivariées\n",
    "* Fonctions Python, symbolique\n",
    "* La classe RandomVector\n",
    "* Exercice à la maison : somme de deux gaussiennes\n",
    "\n",
    "## La méthodologie ABC\n",
    "\n",
    "<img src=\"./MethodologieIncertitude-FR.png\">\n"
   ]
  }
 ],
 "metadata": {
  "kernelspec": {
   "display_name": "Python 3",
   "language": "python",
   "name": "python3"
  },
  "language_info": {
   "codemirror_mode": {
    "name": "ipython",
    "version": 3
   },
   "file_extension": ".py",
   "mimetype": "text/x-python",
   "name": "python",
   "nbconvert_exporter": "python",
   "pygments_lexer": "ipython3",
   "version": "3.7.0"
  }
 },
 "nbformat": 4,
 "nbformat_minor": 2
}
